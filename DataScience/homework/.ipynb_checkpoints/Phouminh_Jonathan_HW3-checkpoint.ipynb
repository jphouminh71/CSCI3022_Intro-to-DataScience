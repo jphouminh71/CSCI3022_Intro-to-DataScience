{
 "cells": [
  {
   "cell_type": "markdown",
   "metadata": {},
   "source": [
    "#### <a id='top'></a>\n",
    "\n",
    "# Homework 3: Conditional Probability and Random Choice \n",
    "***\n",
    "\n",
    "**Name**: Jonathan Phouminh\n",
    "\n",
    "***\n",
    "\n",
    "This assignment is due on Canvas by **MIDNIGHT on Monday September 21**. Your solutions to theoretical questions should be done in Markdown directly below the associated question.  Your solutions to computational questions should include any specified Python code and results as well as written commentary on your conclusions.  Remember that you are encouraged to discuss the problems with your classmates, but **you must write all code and solutions on your own**.\n",
    "\n",
    "**NOTES**: \n",
    "\n",
    "- Any relevant data sets should be available under the **Data** module on Canvas. To make life easier on the graders if they need to run your code, do not change the relative path names here. Instead, move the files around on your computer.\n",
    "- If you're not familiar with typesetting math directly into Markdown then by all means, do your work on paper first and then typeset it later.  Remember that there is a [reference guide](https://math.meta.stackexchange.com/questions/5020/mathjax-basic-tutorial-and-quick-reference) linked on Canvas on writing math in Markdown. **All** of your written commentary, justifications and mathematical work should be in Markdown.\n",
    "- Because you can technically evaluate notebook cells is a non-linear order, it's a good idea to do Kernel $\\rightarrow$ Restart & Run All as a check before submitting your solutions.  That way if we need to run your code you will know that it will work as expected. \n",
    "- It is **bad form** to make your reader interpret numerical output from your code.  If a question asks you to compute some value from the data you should show your code output **AND** write a summary of the results in Markdown directly below your code. \n",
    "- 95 points of this assignment are in problems.  The remaining 5 are for neatness, style, and overall exposition of both code and text.\n",
    "- This probably goes without saying, but... For any question that asks you to calculate something, you **must show all work and justify your answers to receive credit**. Sparse or nonexistent work will receive sparse or nonexistent credit. \n",
    "\n",
    "---\n",
    "**Shortcuts:**  [Problem 1](#p1) | [Problem 2](#p2) | [Problem 3](#p3) |\n",
    "\n",
    "---"
   ]
  },
  {
   "cell_type": "markdown",
   "metadata": {},
   "source": [
    "Collaborators: \n",
    "\n",
    "   Zach Chomalla\n",
    "   Bao Nguyen"
   ]
  },
  {
   "cell_type": "code",
   "execution_count": 1,
   "metadata": {},
   "outputs": [],
   "source": [
    "import pandas as pd\n",
    "import numpy as np\n",
    "import matplotlib.pylab as plt\n",
    "%matplotlib inline"
   ]
  },
  {
   "cell_type": "markdown",
   "metadata": {},
   "source": [
    "***\n",
    "<a/ id='p1'></a>\n",
    "[Back to top](#top)\n",
    "\n",
    "## (25 pts) Problem 1: Theory (Independence)\n",
    "\n",
    "In the popular video game series Pokémon, players conduct battles between their pokémon (creatures). In the main series of games, these battles are [turn-based](#https://en.wikipedia.org/wiki/Turns,_rounds_and_time-keeping_systems_in_games#Turn-based), similar to a game of checkers, chess, or Go.\n",
    "\n",
    "Let's create a new set of rules for a pokémon duel so they don't have to battle until they faint. For our example, we will look at Pikachu vs. Eevee. Pikachu has a higher base Speed, so they will get to move first.\n",
    "\n",
    "* The duel is composed of an unknown number of rounds (same as Pokémon).\n",
    "* Each round is still turn-based, it consists of Pikachu trying to strike Eevee, then Eevee trying to strike Pikachu.\n",
    "* If Pikachu manages to strike Eevee, then Pikachu is awarded a point, and similarly if Eevee manages to strike Pikachu, then Eevee is awarded a point.\n",
    "* If a round ends in a tie, then Pikachu and Eevee proceed to another round. If a round ends with one pokémon scoring a point but the other one does not, then the pokémon who scored a point wins the duel.\n",
    "\n",
    "Let $U$ be the event that \"Picachu wins the duel\", $F$ be the event that \"the duel ends after the first round of strikes\", and $C$ be the event that \"the duel continues after the first round of strikes\".  Suppose that the result of one strike is independent of the other strikes, Picachu successfully lands their strikes with probability $p$ (based on their accuracy and Eevee's evasiveness), and Eevee similarly lands their strikes with probability $q$."
   ]
  },
  {
   "cell_type": "markdown",
   "metadata": {},
   "source": [
    "**Part A**: The duel will continue until Picachu or Eevee wins.  What is the sample space $\\Omega$ for this \"experiment\"?  Represent the outcomes of individual strikes by $H$ for a hit and $M$ for a miss. At the very least, your answer should include all of the events in $\\Omega$ that include one or two rounds.\n",
    "\n",
    "HINT: Remember that Pikachu has the first strike in each round!"
   ]
  },
  {
   "cell_type": "markdown",
   "metadata": {},
   "source": [
    "$\\Omega$ = { $H_pH_E$ , $H_pM_E$ , $M_pH_E$, $M_pM_E$ }"
   ]
  },
  {
   "cell_type": "markdown",
   "metadata": {},
   "source": [
    "**Part B**: Determine $P(U \\mid F)$ in terms of $p$ and $q$."
   ]
  },
  {
   "cell_type": "markdown",
   "metadata": {},
   "source": [
    "If we know that if the round ends in the first round then our sample space becomes \n",
    "\n",
    "L = { $H_pM_e$, $M_pE_e$ }\n",
    "        \n",
    "We are interested in case where Pikachu hits and Eevee misses, so we just need to determine that probability.\n",
    "\n",
    "P(U | F) = P( P(p) $\\cap$ P(1-q))  where p is pikachu hitting and 1-q representing Eevee missing. "
   ]
  },
  {
   "cell_type": "markdown",
   "metadata": {},
   "source": [
    "**Part C**: Explain why events $C$ and $U$ are independent. "
   ]
  },
  {
   "cell_type": "markdown",
   "metadata": {},
   "source": [
    "Will show that C and U are independant by explaining why the following holds\n",
    "P( U $\\cap$ C ) = P(U) * P(C)\n",
    "\n",
    "The probability of pikachu winning any given round is equal to the probability of pikachu landing a strike, P(p), multiplied by the probability of Eevee missing the strike in the same round, P(1-q). Given that the round advances, the sample space is still the same because there is nothing chaning the likelyhood of pikachu striking and Eevee missing. Therefore, we know that the two events are independent because the equation above holds. "
   ]
  },
  {
   "cell_type": "markdown",
   "metadata": {},
   "source": [
    "**Part D**: Use the Law of Total Probability to show that $P(U) = p(1-q) + (2pq - p - q +1) ~P(U \\mid C)$. "
   ]
  },
  {
   "cell_type": "markdown",
   "metadata": {},
   "source": [
    "**Typeset your solution for Problem 1D in this cell or cells.**"
   ]
  },
  {
   "cell_type": "markdown",
   "metadata": {},
   "source": [
    "**Part E**: Use the fact from **Part B** that $P(U \\mid C) = P(U)$ to determine $P(U)$ in terms of $p$ and $q$."
   ]
  },
  {
   "cell_type": "markdown",
   "metadata": {},
   "source": [
    "If we know that the probability of pikachu winning remains the same in any given round then all we would have to know is the probability of pikachu hitting in that round multiplied by the probability of Eeevee missing..\n",
    "\n",
    "P(U) = P(p) * P(1-q)"
   ]
  },
  {
   "cell_type": "markdown",
   "metadata": {},
   "source": [
    "**Part F**: Explain why the answers to **Part B** and **Part E** are the same. "
   ]
  },
  {
   "cell_type": "markdown",
   "metadata": {},
   "source": [
    "The answers from B and E are the same because we know that the probability of Pikachu winning is independent of any g\n",
    "iven round, the question in Part B just happened to ask for the probability given the game ended in the first round. "
   ]
  },
  {
   "cell_type": "markdown",
   "metadata": {},
   "source": [
    "**Part G**: Explain the significance of the solution technique for $P(U)$ outlined in **Part D** and **Part E**.  Why did we go this route instead of computing $P(T)$ directly?  Can we always use such techniques?  What assumption did we need to make in order to use this solution approach?"
   ]
  },
  {
   "cell_type": "markdown",
   "metadata": {},
   "source": [
    "**Typeset your solution for Problem 1G in this cell or cells.**"
   ]
  },
  {
   "cell_type": "markdown",
   "metadata": {},
   "source": [
    "[Back to top](#top)\n",
    "<a id='p2'></a>\n",
    "\n",
    "## (30 pts) Problem 2: Computation (Joker Poker Hands)\n",
    "***\n"
   ]
  },
  {
   "cell_type": "markdown",
   "metadata": {},
   "source": [
    "A common example for discrete counting and probability questions are poker hands.  Consider using a standard 52-card playing deck, with card faces `[A,2,3,4,5,6,7,8,9,10,J,Q,K]` across the standard 4 suits: `[C,D,H,S]`.  For the markdown portions of this problem, you may leave your answer in terms of a ratio of products, but you should simplify away any combinatoric notation such as ${n \\choose k}$ or $P(n,k)$.\n",
    "\n",
    "**Part A:**\n",
    "\n",
    "Suppose we draw 5 cards at random from the deck.  What is the probability that we have a \"3 of a kind:\" a hand with 3 copies of one face card and the other two cards unmatched?"
   ]
  },
  {
   "cell_type": "markdown",
   "metadata": {},
   "source": [
    "We solve this by determining all the different ways of achieving a 3 of a kind hand divided by the all the possible 5 card hands. \n",
    "\n",
    "First determine, the amount of different ways to draw three cards that match and we get \n",
    "\n",
    "   P(13,1) * P(4,3)       , these are all the different combinations of a 3 of a kind hand with 4 different suits\n",
    "   \n",
    "next, we determine the count of different combinations for the remaining two cards of the 5 card hand\n",
    "\n",
    " P(12, 2) * P(4,1) * P(4,1), combination of choosing two cards not matching the our three of a kind card with 4 suits\n",
    "\n",
    "$P(3ofKind) = \\frac{P(13,1)P(4,3)P(12,2)P(4,1)P(4,1)}{P(52,5)}$"
   ]
  },
  {
   "cell_type": "markdown",
   "metadata": {},
   "source": [
    "**Part B:**\n",
    "\n",
    "Suppose we add a single \"Joker\" card to the deck.  The Joker may serve as a copy of any card in the deck, including one already in our hand.  \n",
    "\n",
    "Suppose we draw 5 cards at random from the deck.  What is the probability that we now have \"3 of a kind?\"  This should now include hands with 2 copies of one face and a joker (and the other 2 as non-paired cards)."
   ]
  },
  {
   "cell_type": "markdown",
   "metadata": {},
   "source": [
    "If we add a single joker as a wild card to the deck, the problem changes in a few ways.\n",
    "\n",
    "1. We must take into account that the deck has increased by one size\n",
    "2. The total probabiliy of landing a three of a kind becomes a sum of the combinations of \n",
    "    - Getting a three of a kind without the joker\n",
    "    - Getting a three of a kind with the assumption that we did have a joker in hand\n",
    "    \n",
    "So we have \n",
    "\n",
    "$\\frac{P(13,1) * P(4,3) * P(12,2) * P(4,1) * P(4,1)}{P(53, 5)}$ + $\\frac{P(13,1) * P(4,2) * P(12,2) * P(4,1) * P(4,1)}{P(53, 5)}$"
   ]
  },
  {
   "cell_type": "markdown",
   "metadata": {},
   "source": [
    "Note we assumed we had drawn a joker when we said P(4,2) because we really only need to choose 2 of the 4 other suit values for some card we drew in P(13,1)."
   ]
  },
  {
   "cell_type": "markdown",
   "metadata": {},
   "source": [
    "**Part C:**\n",
    "\n",
    "Write a simulation that draws a hand of 5 cards from a standard 52-card deck.  Repeat this simulation 10000 times, and report how many \"3 of a kind\" hands were observed.  Verify that the result is consistent with your answer to part A."
   ]
  },
  {
   "cell_type": "code",
   "execution_count": 2,
   "metadata": {},
   "outputs": [
    {
     "name": "stdout",
     "output_type": "stream",
     "text": [
      "200 three of a kinds were found\n",
      "3 of a kind rate:  2.0 %\n"
     ]
    }
   ],
   "source": [
    "import random\n",
    "# will represent cards with just numerical values \n",
    "# 0 = ace , 11 = jack , 12 = queen , 13 = king, 1 is not placed in the deck\n",
    "deck = []\n",
    "\n",
    "def loadDeck():\n",
    "    for i in range(0,14):\n",
    "        for j in range(4):\n",
    "            if i == 1:\n",
    "                break\n",
    "            deck.append(i)\n",
    "        \n",
    "# helper function catch a full house hand\n",
    "def checkFullHouse(givenHand, indexes):\n",
    "    hand = givenHand\n",
    "    if len(indexes) > 3:   # full house\n",
    "        return False \n",
    "    return True\n",
    "   \n",
    "# helper function to help determine 3 of a kind \n",
    "def hasThreeOfAKind(hand):\n",
    "    originalHand = hand.copy()\n",
    "    ArrayofMatches = [] \n",
    "    ArrayofIndexes = []\n",
    "    for i in range(len(hand)):\n",
    "        ArrayofMatches.append(hand[i])\n",
    "        j = i + 1\n",
    "        while j != 5:   # go through and just grab all the matches\n",
    "            if hand[j] == ArrayofMatches[0]:\n",
    "                ArrayofMatches.append(hand[j])\n",
    "                ArrayofIndexes.append(hand[j])\n",
    "            j = j + 1\n",
    "        if len(ArrayofMatches) > 3: # quads\n",
    "            return False\n",
    "        if len(ArrayofMatches) == 3:  # make sure we check the rest of the array quads\n",
    "            ArrayofIndexes.append(hand[i])\n",
    "            return checkFullHouse(originalHand, ArrayofIndexes)\n",
    "        ArrayofMatches = []\n",
    "        indexOfMatches = []\n",
    "    return False\n",
    "    \n",
    "def draw():\n",
    "    COUNTER = 0\n",
    "    DRAW_COUNT = 10000\n",
    "    \n",
    "    loadDeck()\n",
    "    shuffledDeck = deck\n",
    "    \n",
    "    for i in range(DRAW_COUNT):\n",
    "        # shuffle the deck \n",
    "        random.shuffle(shuffledDeck)\n",
    "        random.shuffle(shuffledDeck)\n",
    "        ret = False\n",
    "        currentHand = []\n",
    "        for i in range(5):  # draw first 5 cards of shuffled deck\n",
    "            currentHand.append(shuffledDeck[i])\n",
    "        ret = hasThreeOfAKind(currentHand)\n",
    "        if ret == True:\n",
    "            COUNTER = COUNTER + 1\n",
    "    print(COUNTER, \"three of a kinds were found\")\n",
    "    rate = 100 * (COUNTER / DRAW_COUNT)\n",
    "    print(\"3 of a kind rate: \", rate, \"%\")\n",
    "    \n",
    "draw()"
   ]
  },
  {
   "cell_type": "markdown",
   "metadata": {},
   "source": [
    "**Part D:**\n",
    "\n",
    "Write a simulation that draws a hand of 5 cards from a standard 52-card deck where one \"Joker\" card has been added.  Repeat this simulation 10000 times, and report how many \"3 of a kind\" hands were observed.   Verify that the result is consistent with your answer to part B."
   ]
  },
  {
   "cell_type": "code",
   "execution_count": 3,
   "metadata": {},
   "outputs": [
    {
     "name": "stdout",
     "output_type": "stream",
     "text": [
      "483 three of a kinds were found\n",
      "3 of a kind rate:  4.83 %\n"
     ]
    }
   ],
   "source": [
    "import random\n",
    "# will represent cards with just numerical values \n",
    "# 0 = ace , 11 = jack , 12 = queen , 13 = king, 1 is not placed in the deck\n",
    "deck = []\n",
    "\n",
    "def loadDeck2():\n",
    "    for i in range(0,14):\n",
    "        for j in range(4):\n",
    "            if i == 1:\n",
    "                break\n",
    "            deck.append(i)\n",
    "            \n",
    "# helper function catch a full house hand\n",
    "def checkFullHouse2(givenHand, indexes):\n",
    "    hand = givenHand\n",
    "    if len(indexes) > 3:   # full house\n",
    "        return False \n",
    "    return True\n",
    "\n",
    "# helper function to help determine 3 of a kind \n",
    "def hasThreeOfAKind2(hand):\n",
    "    originalHand = hand.copy()\n",
    "    ArrayofMatches = [] \n",
    "    ArrayofIndexes = []\n",
    "    ArrayofJokers = []\n",
    "    \n",
    "    # scan for jokers \n",
    "    for card in hand:\n",
    "        if card == 14:\n",
    "            ArrayofJokers.append(card)\n",
    "    \n",
    "    for i in range(len(hand)):\n",
    "        ArrayofMatches.append(hand[i])\n",
    "        j = i + 1\n",
    "        while j != 5:   # go through and just grab all the matches\n",
    "            if hand[j] == ArrayofMatches[0]:\n",
    "                ArrayofMatches.append(hand[j])\n",
    "                ArrayofIndexes.append(hand[j])\n",
    "            j = j + 1\n",
    "        if len(ArrayofMatches) > 3: # quads\n",
    "            return False\n",
    "        if len(ArrayofMatches) == 3:  # make sure we check the rest of the array quads\n",
    "            ArrayofIndexes.append(hand[i])\n",
    "            return checkFullHouse2(originalHand, ArrayofIndexes)\n",
    "        if len(ArrayofMatches) == 2 and len(ArrayofJokers) == 1: # auto match\n",
    "            return True\n",
    "        ArrayofMatches = []\n",
    "        indexOfMatches = []\n",
    "    return False\n",
    "        \n",
    "\n",
    "def draw2():\n",
    "    COUNTER = 0\n",
    "    DRAW_COUNT = 10000\n",
    "    \n",
    "    loadDeck()\n",
    "    shuffledDeck = deck\n",
    "    shuffledDeck.append(14)   # adding the joker \n",
    "    \n",
    "    for i in range(DRAW_COUNT):\n",
    "        # shuffle the deck \n",
    "        random.shuffle(shuffledDeck)\n",
    "        random.shuffle(shuffledDeck)\n",
    "        ret = False\n",
    "        currentHand = []\n",
    "        for i in range(5):  # draw first 5 cards of shuffled deck\n",
    "            currentHand.append(shuffledDeck[i])\n",
    "        ret = hasThreeOfAKind2(currentHand)\n",
    "        if ret == True:\n",
    "            COUNTER = COUNTER + 1\n",
    "    print(COUNTER, \"three of a kinds were found\")\n",
    "    rate = 100 * (COUNTER / DRAW_COUNT)\n",
    "    print(\"3 of a kind rate: \", rate, \"%\")\n",
    "    \n",
    "draw2()"
   ]
  },
  {
   "cell_type": "markdown",
   "metadata": {},
   "source": [
    "**Part E:**\n",
    "\n",
    "Write a simulation that draws a hand of 5 cards from a standard 52-card deck with four \"Joker\" cards added.  Repeat this simulation 10000 times, and report how many \"3 of a kind\" hands were observed. (NB: 3 unpaired cards and 2 Jokers is the new case of \"3 of a kind\".)"
   ]
  },
  {
   "cell_type": "code",
   "execution_count": 4,
   "metadata": {},
   "outputs": [
    {
     "name": "stdout",
     "output_type": "stream",
     "text": [
      "927 three of a kinds were found\n",
      "3 of a kind rate:  9.27 %\n"
     ]
    }
   ],
   "source": [
    "import random\n",
    "# will represent cards with just numerical values \n",
    "# 0 = ace , 11 = jack , 12 = queen , 13 = king, 1 is not placed in the deck\n",
    "deck = []\n",
    "\n",
    "def loadDeck3():\n",
    "    for i in range(0,14):\n",
    "        for j in range(4):\n",
    "            if i == 1:\n",
    "                break\n",
    "            deck.append(i)\n",
    "            \n",
    "# helper function catch a full house hand\n",
    "def checkFullHouse3(givenHand, indexes):\n",
    "    hand = givenHand\n",
    "    if len(indexes) > 3:   # full house\n",
    "        return False \n",
    "    return True\n",
    "\n",
    "# helper function to help determine 3 of a kind \n",
    "def hasThreeOfAKind3(hand):\n",
    "    originalHand = hand.copy()\n",
    "    ArrayofMatches = [] \n",
    "    ArrayofIndexes = []\n",
    "    ArrayofJokers = []\n",
    "    \n",
    "    # scan for jokers \n",
    "    for card in hand:\n",
    "        if card == 14:\n",
    "            ArrayofJokers.append(card)\n",
    "    \n",
    "    for i in range(len(hand)):\n",
    "        ArrayofMatches.append(hand[i])\n",
    "        j = i + 1\n",
    "        while j != 5:   # go through and just grab all the matches\n",
    "            if hand[j] == ArrayofMatches[0]:\n",
    "                ArrayofMatches.append(hand[j])\n",
    "                ArrayofIndexes.append(hand[j])\n",
    "            j = j + 1\n",
    "        if len(ArrayofMatches) > 3: # quads\n",
    "            return False\n",
    "        if len(ArrayofMatches) == 3:  # make sure we check the rest of the array quads\n",
    "            ArrayofIndexes.append(hand[i])\n",
    "            return checkFullHouse2(originalHand, ArrayofIndexes)\n",
    "        if len(ArrayofMatches) == 2 and len(ArrayofJokers) >= 1: # pair and a joker\n",
    "            return True\n",
    "        if (len(ArrayofJokers) >= 2):  # automatic 3 of kind\n",
    "            return True\n",
    "        ArrayofMatches = []\n",
    "        indexOfMatches = []\n",
    "        ArrayofJokers = []\n",
    "    return False\n",
    "        \n",
    "\n",
    "def draw3():\n",
    "    COUNTER = 0\n",
    "    DRAW_COUNT = 10000\n",
    "    \n",
    "    loadDeck()\n",
    "    shuffledDeck = deck\n",
    "    shuffledDeck.append(14)   # adding the joker \n",
    "    shuffledDeck.append(14)\n",
    "    shuffledDeck.append(14)\n",
    "    shuffledDeck.append(14)\n",
    "    for i in range(DRAW_COUNT):\n",
    "        # shuffle the deck \n",
    "        random.shuffle(shuffledDeck)\n",
    "        random.shuffle(shuffledDeck)\n",
    "        ret = False\n",
    "        currentHand = []\n",
    "        for i in range(5):  # draw first 5 cards of shuffled deck\n",
    "            currentHand.append(shuffledDeck[i])\n",
    "        ret = hasThreeOfAKind3(currentHand)\n",
    "        if ret == True:\n",
    "            COUNTER = COUNTER + 1\n",
    "    print(COUNTER, \"three of a kinds were found\")\n",
    "    rate = 100 * (COUNTER / DRAW_COUNT)\n",
    "    print(\"3 of a kind rate: \", rate, \"%\")\n",
    "    \n",
    "draw3()"
   ]
  },
  {
   "attachments": {
    "image.png": {
     "image/png": "[encoded data removed]"
    }
   },
   "cell_type": "markdown",
   "metadata": {},
   "source": [
    "[Back to top](#top)\n",
    "\n",
    "<a id='p3'></a>\n",
    "\n",
    "## (40 pts) Problem 3: Simulation\n",
    "*** \n",
    "\n",
    "In this problem you will write some code to simulate the movement of budding Data Scientist Skyler - founder of infamous Skynet - as they navigate their way through the Engineering Center Lobby between classes.  Skyler has 10 minutes to navigate the labryinthine space below:\n",
    "\n",
    "![image.png](attachment:image.png)\n",
    "\n",
    "Skyler starts at the bottom left (SW) corner, a square we will refer to as $(0,0)$, and is trying to reach their next class in the top right (or NE) corner, a square at (4,6) using a standard cartesian system.\n",
    "\n",
    "Skyler, unfortunately, is very disoriented and their movement is partly random.  1/3 of the time Skyler will try to walk North; 1/3 of the time Skyler will try to walk East, and the rest of the time Skyler will split evenly between South and West.\n",
    "\n",
    "Your goal is to figure out what the probability is that Skyler makes it to (4,6) before running out of time, with the following hazards:\n",
    "\n",
    " - Skyler walks at a standard rate of 10 seconds per tile.  If Skyler walks into one of the dark-shaded walls or pillars, they remain where they started, but it still takes 10 seconds.\n",
    "\n",
    " - Someone spilled a foul-smelling energy drink at (2,1).  If Skyler moves into the tile in (2,1), they are completely grossed out.  They move back to the start at (0,0) and spend a little time cleaning their shoes, losing 60 additional seconds beyond the time to originally move into (2,1).\n",
    " \n",
    " - Skyler's data science professor is drinking coffee at (2,3), and Skyler hasn't turned in their homework for a week and a half.  If Skyler walks to that tile, they suffer through some tedious conversation and then shuffle *backwards* from where they came by an extra tile, so if they encountered the professor in a movement from (1,3) to (2,3) they would recoil back to (0,3).  This entire process takes 90 seconds, including all movement.\n",
    " \n",
    " - Skyler's best friend and coding collaborator is at (0,6).  Should Skyler walk there, they will engage in a lengthy conversation, taking 120 seconds, including all movement.\n",
    "\n",
    "\n",
    "\n",
    "<br>\n",
    "\n",
    "**Part A**: Complete the function sky_step below. The function should simulate one step of Skyler's.  It should take as arguments the Skyler's current location on the board as well as the the time elapses, and return Skyler's new location and time elapses after the movement has completed. Note that if Skyler runs out of time, you should return 310 and not any additional wasted time."
   ]
  },
  {
   "cell_type": "code",
   "execution_count": 54,
   "metadata": {},
   "outputs": [],
   "source": [
    "from random import randrange\n",
    "from copy import deepcopy\n",
    "\n",
    "# true means move was in bounds\n",
    "# false means move was out of bounds\n",
    "def checkBounds(currentLocation):\n",
    "    # [x,y]\n",
    "    if currentLocation[0] >= 0 and currentLocation[0] <= 4:    \n",
    "        if currentLocation[1] >= 0 and currentLocation[1] <= 6:\n",
    "            return True\n",
    "        return False\n",
    "    return False\n",
    "\n",
    "\n",
    "# Return semantics  (y,x) coordinate position\n",
    "# move foward = take current position + (-1,0)\n",
    "# move backwards = take current position + (1,0)\n",
    "# move east = take current position + (0, -1)\n",
    "# move west = take current position + (0, 1)\n",
    "def makeMove(currentLocation):\n",
    "    number = randrange(100)\n",
    "    # move north\n",
    "    if number < 33: \n",
    "        newY = currentLocation[0] + 1\n",
    "        newX = currentLocation[1]\n",
    "        return [newX,newY]\n",
    "    # move south\n",
    "    elif number >= 33 and number < 65:\n",
    "        newY = currentLocation[0] - 1\n",
    "        newX = currentLocation[1] \n",
    "        return [newX,newY]\n",
    "    # move east\n",
    "    elif number >= 65 and number < 83:\n",
    "        newY = currentLocation[0]\n",
    "        newX = currentLocation[1] - 1 \n",
    "        return [newX,newY]\n",
    "    # move west \n",
    "    else:\n",
    "        newY = currentLocation[0]\n",
    "        newX = currentLocation[1] + 1\n",
    "        return [newX,newY]\n",
    "\n",
    "def checkEvents(currentStep):\n",
    "    # hitting inner walls\n",
    "    if currentStep == [1,1] or currentStep == [2,2] or currentStep == [0,5] or currentStep == [4,5] and checkBounds(currentStep) == False:\n",
    "        return \"hit wall\"\n",
    "\n",
    "    # water spill event,   return 1200 to represent sending them back to location 0,0 and subtracting 60 \n",
    "    if currentStep == [2,1]:\n",
    "        # send them back to (0,0) and waste 120 seconds\n",
    "        return \"water spill\" \n",
    "\n",
    "    # coffee spill event\n",
    "    if currentStep == [2,3]:\n",
    "        # walk back two spaces and lose 90 seconds, which way does she walk back? Keep track of previous? \n",
    "        return \"coffee spill\"\n",
    "\n",
    "    # game winning tile\n",
    "    if currentStep == [4,6]:\n",
    "        # end the game \n",
    "        return \"WINNER\"\n",
    "\n",
    "    # movement is ok and just proceed with the next \n",
    "    return \"NONE\"\n",
    "\n",
    "def walkbacktwo(originalSpot, newSpot):\n",
    "    originalX = originalSpot[0]\n",
    "    originalY = originalSpot[1]\n",
    "    \n",
    "    newX = newSpot[0]\n",
    "    newY = newSpot[1]\n",
    "    \n",
    "    # check if they came from the north\n",
    "    if originalY > newY:\n",
    "        replacementY = originalY + 1\n",
    "        return [originalX, replacementY]\n",
    "    \n",
    "    if originalX > newX:\n",
    "        replacementX = originalX + 1\n",
    "        return [replacementX, originalY]\n",
    "    \n",
    "    replacementX = originalX - 1\n",
    "    return [replacementX, originalY]\n",
    "    \n",
    "   \n",
    "# function calls the movement methods, and checks to see if the move is valid, if valid, \n",
    "# return the move to the sim\n",
    "def sky_step(location, time):\n",
    "    original_location = deepcopy(location)\n",
    "    original_time = deepcopy(time)\n",
    "    stepTaken = makeMove(location)\n",
    "    event = checkEvents(stepTaken)\n",
    "    \n",
    "    if (event == \"hit wall\"):\n",
    "        newSpot = original_location\n",
    "        newTime = original_time + 10\n",
    "        return newSpot, newTime\n",
    "    elif (event == \"water spill\"):\n",
    "        newSpot = [0,0]\n",
    "        newTime = original_time + 120\n",
    "        return newSpot, newTime\n",
    "    elif (event == \"coffee spill\"):\n",
    "        newSpot = walkbacktwo(original_location, stepTaken)\n",
    "        newTime = original_time + 90\n",
    "        return newSpot, newTime\n",
    "    elif (event == \"WINNER\"):\n",
    "        newSpot = stepTaken\n",
    "        newTime = original_time + 10\n",
    "        return newSpot, newTime\n",
    "    elif (event == \"NONE\"):\n",
    "        newSpot = stepTaken\n",
    "        newTime = original_time + 10\n",
    "        return newSpot, newTime"
   ]
  },
  {
   "cell_type": "markdown",
   "metadata": {},
   "source": [
    "**Part B**: Use your function from **Part A** to simulate at least 10000 of Skyler's 10-minute trips through the Engineering Lobby and make a frequency histogram of the Skyler's time elapsed at the end of your simulation (including instances where they did not make it in time)."
   ]
  },
  {
   "cell_type": "code",
   "execution_count": 85,
   "metadata": {},
   "outputs": [
    {
     "data": {
      "image/png": "[encoded data removed]",
      "text/plain": [
       "<Figure size 1440x720 with 1 Axes>"
      ]
     },
     "metadata": {
      "needs_background": "light"
     },
     "output_type": "display_data"
    }
   ],
   "source": [
    "finishing_times = []\n",
    "\n",
    "def plotHistogram(finishing_times):\n",
    "    series = pd.Series(finishing_times)\n",
    "\n",
    "    my_bins = range(0, 700, 100)\n",
    "    fig, ax = plt.subplots(figsize=(20,10))\n",
    "\n",
    "    plt.hist(series, bins = my_bins)\n",
    "    ax.set_title(\"Skylar Finish Frequency\", fontsize = 18)\n",
    "    ax.set_ylabel(\"Frequency\", fontsize = 16)\n",
    "    ax.set_xlabel(\"Time in Seconds\", fontsize = 16)\n",
    "    ax.grid(alpha=1)\n",
    "\n",
    "    \n",
    "def simulate():\n",
    "    for i in range(10000):\n",
    "        currenttime = 0\n",
    "        currentposition = [0,0]\n",
    "        while (currenttime != 600):\n",
    "            ret = sky_step(currentposition,currenttime)\n",
    "            currentposition = ret[0]\n",
    "            currenttime = ret[1]\n",
    "            if ret[0] == [4,6]:\n",
    "                timeElapsed = ret[1]\n",
    "                break\n",
    "            if currenttime >= 600:\n",
    "                break\n",
    "            \n",
    "        finishing_times.append(currenttime)\n",
    "\n",
    "    plotHistogram(finishing_times)\n",
    "simulate()"
   ]
  },
  {
   "cell_type": "markdown",
   "metadata": {},
   "source": [
    "**Part C**: Use your code from **Part A** to estimate the probability that Skyler makes it to class on time."
   ]
  },
  {
   "cell_type": "code",
   "execution_count": 87,
   "metadata": {},
   "outputs": [
    {
     "name": "stdout",
     "output_type": "stream",
     "text": [
      "probabilty of skylar making it:  2.8000000000000003\n"
     ]
    }
   ],
   "source": [
    "finishCount = 0 \n",
    "for i in finishing_times:\n",
    "    if i < 600:\n",
    "        finishCount = finishCount + 1\n",
    "        \n",
    "        \n",
    "print(\"probabilty of skylar making it: \", (finishCount / 10000)* 100 )"
   ]
  },
  {
   "cell_type": "markdown",
   "metadata": {},
   "source": [
    "**Part D**: Use your code from **Part A** to estimate the probability that Skyler makes it to class on time _given_ that they talked to their Data Science professor.  Is Skyler more or less likely to make it on time if they talk to their Data Science Professor?"
   ]
  },
  {
   "cell_type": "markdown",
   "metadata": {},
   "source": [
    "3/ 31 chance of landing in a position to talk to the professor"
   ]
  },
  {
   "cell_type": "code",
   "execution_count": 91,
   "metadata": {},
   "outputs": [
    {
     "name": "stdout",
     "output_type": "stream",
     "text": [
      "0.29032258064516125\n"
     ]
    }
   ],
   "source": [
    "print((.03  * (3/31))* 100)"
   ]
  },
  {
   "cell_type": "markdown",
   "metadata": {},
   "source": [
    "**Part E**: Use your code from **Part A** to estimate the probability (either directly or using Bayes' Rule) that Skyler talked to their Data Science professor, given that Skyler made it to class on time."
   ]
  },
  {
   "cell_type": "code",
   "execution_count": 5,
   "metadata": {
    "collapsed": true
   },
   "outputs": [],
   "source": [
    "#Estimate probability of talking to their DS professor given being on time  "
   ]
  },
  {
   "cell_type": "markdown",
   "metadata": {},
   "source": [
    "**Typeset your analysis for Problem 3E in this cell or cells.**"
   ]
  },
  {
   "cell_type": "markdown",
   "metadata": {},
   "source": []
  }
 ],
 "metadata": {
  "kernelspec": {
   "display_name": "Python 3",
   "language": "python",
   "name": "python3"
  },
  "language_info": {
   "codemirror_mode": {
    "name": "ipython",
    "version": 3
   },
   "file_extension": ".py",
   "mimetype": "text/x-python",
   "name": "python",
   "nbconvert_exporter": "python",
   "pygments_lexer": "ipython3",
   "version": "3.8.2"
  }
 },
 "nbformat": 4,
 "nbformat_minor": 2
}
