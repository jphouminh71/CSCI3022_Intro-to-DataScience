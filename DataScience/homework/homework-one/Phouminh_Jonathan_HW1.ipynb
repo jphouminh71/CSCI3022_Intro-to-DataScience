{
 "cells": [
  {
   "cell_type": "markdown",
   "metadata": {},
   "source": [
    "<a id='top'></a>\n",
    "\n",
    "# CSCI3022 F20\n",
    "# Homework 1: Data Cleaning and Exploratory Data Analysis \n",
    "***\n",
    "\n",
    "**Name**: Jonathan Phouminh\n",
    "\n",
    "***\n",
    "\n",
    "This assignment is due on Canvas by **MIDNIGHT on Friday September 4**. Your solutions to theoretical questions should be done in Markdown directly below the associated question.  Your solutions to computational questions should include any specified Python code and results as well as written commentary on your conclusions.  Remember that you are encouraged to discuss the problems with your classmates, but **you must write all code and solutions on your own**.\n",
    "\n",
    "**NOTES**: \n",
    "\n",
    "- Any relevant data sets should be available on Canvas. To make life easier on the graders if they need to run your code, do not change the relative path names here. Instead, move the files around on your computer.\n",
    "- If you're not familiar with typesetting math directly into Markdown then by all means, do your work on paper first and then typeset it later.  Remember that there is a [reference guide](https://math.meta.stackexchange.com/questions/5020/mathjax-basic-tutorial-and-quick-reference) linked on Canvas on writing math in Markdown. **All** of your written commentary, justifications and mathematical work should be in Markdown.\n",
    "- Because you can technically evaluate notebook cells is a non-linear order, it's a good idea to do Kernel $\\rightarrow$ Restart & Run All as a check before submitting your solutions.  That way if we need to run your code you will know that it will work as expected. \n",
    "- It is **bad form** to make your reader interpret numerical output from your code.  If a question asks you to compute some value from the data you should show your code output **AND** write a summary of the results in Markdown directly below your code. \n",
    "- 95 points of this assignment are in problems.  The remaining 5 are for neatness, style, and overall exposition of both code and text.\n",
    "- This probably goes without saying, but... For any question that asks you to calculate something, you **must show all work and justify your answers to receive credit**. Sparse or nonexistent work will receive sparse or nonexistent credit. \n",
    "\n",
    "---\n",
    "**Shortcuts:**  [Problem 1](#p1) | [Problem 2](#p2) | [Problem 3](#p3) | [Problem 4](#p4) |\n",
    "---"
   ]
  },
  {
   "cell_type": "code",
   "execution_count": 1,
   "metadata": {
    "collapsed": true
   },
   "outputs": [],
   "source": [
    "import pandas as pd\n",
    "import numpy as np\n",
    "import matplotlib.pylab as plt\n",
    "%matplotlib inline"
   ]
  },
  {
   "cell_type": "markdown",
   "metadata": {},
   "source": [
    "[Back to top](#top)\n",
    "\n",
    "<br>\n",
    "\n",
    "<a/ id='p1'></a>\n",
    "\n",
    "### (20 points) Problem 1: Theory (Sampling)\n",
    "***\n",
    "\n",
    "<img style=\"float: left; width: 200px; padding: 3mm;\" src=\"https://upload.wikimedia.org/wikipedia/commons/5/57/Acme_ballot_box_-_Smithsonian.jpg\" alt=\"A ballot box\"/>  \n",
    "You are the head of a news outlet on election day. You have embedded journalists in key U.S. States in order sample voters at different polling stations in the states. Once your journalists choose a polling station, they monitor the station for the election day. The journalists then report back the number of votes for each candidate, which is recorded in a special App on your phone, called Hippocampus. Overall, your team collected data from 6 polling stations in Alaska, 36 polling stations in Ohio, 12 polling stations in Colorado, 6 polling stations in Iowa, and 42 polling stations from California.\n",
    "\n",
    "You want to get a sense of the average amount of votes for each candidate per polling station, so you use the Hippocampus app to randomly choose 1 polling station in Alaska, 6 polling stations in Ohio, 2 polling stations in Colorado, 1 polling station in Iowa, and 7 polling stations from California.\n",
    "\n",
    "$$ \\quad $$\n",
    "    \n",
    "**Part A:** Identify the following: \n",
    "\n",
    "- the population \n",
    "- the sample frame \n",
    "- the sample \n",
    "- the type of sample \n",
    "- the quantity of interest"
   ]
  },
  {
   "cell_type": "markdown",
   "metadata": {},
   "source": [
    "__Solution:__ \n",
    "\n",
    "    1. The population is all people who can vote.\n",
    "    2. The sample frame is the Voters who have in Alaska (6 stations), Ohio (36 stations), Colorado (12 stations), Iowa, and California (42 stations)\n",
    "    3. The sample were the voters that have voted in those states that voted in the polling stations whose data has been chosen to be collected\n",
    "    4. Stratified Sample\n",
    "    5. The average vote count for each candidate in for the polling stations whose data is being collected. "
   ]
  },
  {
   "cell_type": "markdown",
   "metadata": {},
   "source": [
    "**Part B:** You repeat your sampling, again using the Hippocampus app. Now, you order the stations alphabetically by State and choose every 3rd data value. \n",
    "    \n",
    "Identify the following: \n",
    "\n",
    "- the population \n",
    "- the sample frame \n",
    "- the sample \n",
    "- the type of sample \n",
    "- the quantity of interest"
   ]
  },
  {
   "cell_type": "markdown",
   "metadata": {},
   "source": [
    "__Solution:__\n",
    "\n",
    "   1. The population remains all people who can vote\n",
    "   2. The sample frame remains all voters who are in Alaska, Ohio, Colorado, Iowa, and California\n",
    "   3. The sample is the voters who voted at the polling station that has been chosen \n",
    "   4. Systemic Sampling\n",
    "   5. the average vote count for each candidate in the polling stations whose data is being collected."
   ]
  },
  {
   "cell_type": "markdown",
   "metadata": {},
   "source": [
    "[Back to top](#top)\n",
    "\n",
    "<br>\n",
    "\n",
    "<a/ id='p2'></a>\n",
    "\n",
    "### (20 points) Problem 2: Theory and Computation (Means and Medians)\n",
    "***\n",
    "\n",
    "A method to investigate the sensitivity of the sample mean and sample median to extreme outliers and changes in the dataset is to replace one or more elements in a given dataset by a number $y$ and investigate the effect when $y$ changes. To illustrate this, consider the following dataset:\n",
    " \n",
    "$$  4.2 \\quad 5.1 \\quad 5.0 \\quad y \\quad 3.8 \\quad 4.1 \\quad 5.5 \\quad 1.9 $$\n",
    "\n",
    "\n"
   ]
  },
  {
   "cell_type": "markdown",
   "metadata": {},
   "source": [
    "**Part A:** Compute the sample mean and sample median for $y=1.5$. Then compute both quantities again for $y=6$."
   ]
  },
  {
   "cell_type": "code",
   "execution_count": 100,
   "metadata": {},
   "outputs": [
    {
     "name": "stdout",
     "output_type": "stream",
     "text": [
      "let y = 1.5\n",
      "MEAN:  3.8875\n",
      "MEDIAN:  4.15\n",
      "\n",
      "let y = 6\n",
      "MEAN:  4.45\n",
      "MEDIAN:  4.6\n"
     ]
    }
   ],
   "source": [
    "import math\n",
    "print(\"let y = 1.5\")\n",
    "value1 = [4.2, 5.1, 5.0, 1.5, 3.8, 4.1, 5.5, 1.9 ]\n",
    "mean1 = (sum(value1)) / 8.0\n",
    "value1.sort() # even array \n",
    "median = (value1[3] + value1[4]) / 2\n",
    "print(\"MEAN: \", mean1)\n",
    "print(\"MEDIAN: \", median)\n",
    "print()\n",
    "\n",
    "\n",
    "print(\"let y = 6\")\n",
    "value2 = [4.2, 5.1, 5.0, 6, 3.8, 4.1, 5.5, 1.9 ]\n",
    "mean2 = (sum(value2)) / 8.0\n",
    "value2.sort()\n",
    "median2 = (value2[3] + value2[4]) / 2\n",
    "print(\"MEAN: \", mean2)\n",
    "print(\"MEDIAN: \", median2)"
   ]
  },
  {
   "cell_type": "markdown",
   "metadata": {},
   "source": [
    "**Part B:** Is there a value for $y$ that would make the mean of the data equal to 6? If so, calculate the value of $y$ that makes the mean equal to 6. If not, clearly explain why not."
   ]
  },
  {
   "cell_type": "markdown",
   "metadata": {},
   "source": [
    "__Solution:__\n",
    "\n",
    "This problem boils down to a basic algebra equation where we just solve for y when the mean is 6. \n",
    "\n",
    "The value can be calculated we just need to set the equation of finding the mean of the data set equal to 6. We then proceed by just solving for y. Once you solve the equation the value of y that gets the mean equal to 6 is 18.4"
   ]
  },
  {
   "cell_type": "code",
   "execution_count": 101,
   "metadata": {},
   "outputs": [
    {
     "name": "stdout",
     "output_type": "stream",
     "text": [
      "18.4\n",
      "6.1875\n"
     ]
    }
   ],
   "source": [
    "# just to help me crunch the numbers\n",
    "sample = [4.2, 5.1, 5.0, 3.8, 4.1, 5.5, 1.9 ]   # data set without y \n",
    "sampleSum = sum(sample)\n",
    "print(48-sampleSum)  # this is the value of y\n",
    "\n",
    "\n",
    "desiredSample = [4.2, 5.1, 5.0, 1.5, 3.8, 4.1, 5.5, 1.9 , 18.4]\n",
    "print(sum(desiredSample) / 8)"
   ]
  },
  {
   "cell_type": "markdown",
   "metadata": {},
   "source": [
    "**Typeset and/or code your solution to part B in this cell or cells**"
   ]
  },
  {
   "cell_type": "markdown",
   "metadata": {},
   "source": [
    "**Part C**: Compute the sample variance and the sample standard deviation for the original dataset given in part A, with $y=6$."
   ]
  },
  {
   "cell_type": "code",
   "execution_count": 102,
   "metadata": {},
   "outputs": [
    {
     "name": "stdout",
     "output_type": "stream",
     "text": [
      "VARIANCE:  1.6199999999999999\n",
      "STANDARD DEVIATION:  1.2727922061357855\n"
     ]
    }
   ],
   "source": [
    "sample = [4.2, 5.1, 5.0, 6.0, 3.8, 4.1, 5.5, 1.9 ]\n",
    "\n",
    "# first compute the mean \n",
    "sample_sum = sum(sample)\n",
    "mean = sample_sum / len(sample)\n",
    "\n",
    "# actually calculating the variance\n",
    "mathprocess = lambda x: pow((x - mean),2)\n",
    "updatedSample = map(mathprocess,sample)\n",
    "summation = sum(updatedSample)\n",
    "\n",
    "# calculating the variance \n",
    "Variance = (1/(len(sample)-1)) * summation\n",
    "print(\"VARIANCE: \", Variance)\n",
    "\n",
    "# calculating the standard deviation \n",
    "print(\"STANDARD DEVIATION: \", math.sqrt(Variance))"
   ]
  },
  {
   "cell_type": "markdown",
   "metadata": {},
   "source": [
    "**Part D**: Compute the sample median for the following cases: \n",
    "- $y=5$ \n",
    "- $y=50$ \n",
    "- $y=4.36$ \n",
    "- $y \\to \\infty$ \n",
    "- $y \\to -\\infty$"
   ]
  },
  {
   "cell_type": "code",
   "execution_count": 103,
   "metadata": {},
   "outputs": [
    {
     "name": "stdout",
     "output_type": "stream",
     "text": [
      "MEDIAN:  4.6\n",
      "MEDIAN:  4.6\n",
      "MEDIAN:  4.28\n",
      "MEDIAN:  4.6\n",
      "MEDIAN:  4.15\n"
     ]
    }
   ],
   "source": [
    "def computeMedian(givenArray) :\n",
    "    givenArray.sort()\n",
    "    if len(givenArray) % 2  == 0 : # n is even\n",
    "        x1_index = (len(givenArray) // 2) - 1 \n",
    "        x2_index = len(givenArray) // 2\n",
    "        print(\"MEDIAN: \", (givenArray[x1_index] + givenArray[x2_index]) / 2)\n",
    "    else:   # n is odd\n",
    "        median_index = len(givenArray) // 2\n",
    "        print(median_index)\n",
    "    \n",
    "y1 = [4.2, 5.1, 5.0, 5.0, 3.8, 4.1, 5.5, 1.9 ] # y = 5.0\n",
    "y2 = [4.2, 5.1, 5.0, 50.0, 3.8, 4.1, 5.5, 1.9 ] # y = 50.0 \n",
    "y3 = [4.2, 5.1, 5.0, 4.36, 3.8, 4.1, 5.5, 1.9 ] # y = 4.36\n",
    "y4 = [4.2, 5.1, 5.0, float('inf'), 3.8, 4.1, 5.5, 1.9 ] # y = infinity\n",
    "y5 = [4.2, 5.1, 5.0, float('-inf'), 3.8, 4.1, 5.5, 1.9 ] # y = -infinity\n",
    "y5 = [4.2, 5.1, 5.0, float('-inf'), 3.8, 4.1, 5.5, 1.9 ] # y = -infinity\n",
    "computeMedian(y1)\n",
    "computeMedian(y2)\n",
    "computeMedian(y3)\n",
    "computeMedian(y4)\n",
    "computeMedian(y5)\n"
   ]
  },
  {
   "cell_type": "markdown",
   "metadata": {},
   "source": [
    "**Part E**: Think about the previous parts, above, and describe in words or mathematical notation the answers to the following two questions:\n",
    "\n",
    "- By varying $y$, what is the set of all the possible values that the sample mean could take on?\n",
    "- By varying $y$, what is the set of all the possible values that the sample median could take on? Specifically, for what sets of $y$ values does the median take on its different possible values?"
   ]
  },
  {
   "cell_type": "markdown",
   "metadata": {},
   "source": [
    "__Solution:__\n",
    "  1. The set of all possible values of the mean would be the set from -infinity to ininity. This is true because y is part of the sample so if we are able to arbitarily change it then we can influence the mean to whatever value we wish. \n",
    "  \n",
    "  2. For all values of x where x > 4.1 but less than 4.2. And for all values where x is greater than 4.2 and less than 5.0"
   ]
  },
  {
   "cell_type": "markdown",
   "metadata": {},
   "source": [
    "**Part F**: Describe in words or mathematical notation, what happens to the sample standard deviation when $y$ is varied in the following ways: \n",
    " \n",
    "- $y \\to \\infty$ \n",
    "- $y \\to \\bar{x}$"
   ]
  },
  {
   "cell_type": "markdown",
   "metadata": {},
   "source": [
    "__Solution:__\n",
    "\n",
    "    1. If y approaches infinity then the variance would also approach infinity. So we expect the standard deviation to also increase \n",
    "    \n",
    "    2. If y approaches the mean of the data set then it would mean that our sample set distribution would become more clustered. So, we should expect the standard deviation to decrease.\n",
    "   "
   ]
  },
  {
   "cell_type": "markdown",
   "metadata": {},
   "source": [
    "[Back to top](#top)\n",
    "<a/ id='p6'></a>\n",
    "\n",
    "## (20 pts) Problem 3: Computation (Scaling)\n",
    "***\n",
    "Consider the following 3 data sets:\n",
    "\n",
    "`A=[0,1,2,3,4,5,6,7,8,9,10,11,12]`\n",
    "\n",
    "`B=[0,0,0,12,7,18,47,25,0,13,0,35]`\n",
    "\n",
    "`C` is the random data set generated by using `np.random.exponential(scale=43, size=1000)`\n",
    "\n",
    "For each data set, perform the following computations in parts A, B, and C:\n",
    "\n",
    "**Part A:** Compute and print the mean and standard deviation of the data set."
   ]
  },
  {
   "cell_type": "code",
   "execution_count": 104,
   "metadata": {},
   "outputs": [
    {
     "name": "stdout",
     "output_type": "stream",
     "text": [
      "     MEAN : STANDARD DEVATION\n",
      "A:  (6.0, 3.8944404818493075)\n",
      "\n",
      "B:  (13.083333333333334, 15.64061341120571)\n",
      "\n",
      "C:  (40.903663809483959, 40.34590430080258)\n"
     ]
    }
   ],
   "source": [
    "def calculateMean(givenArray):\n",
    "    summation = sum(givenArray)\n",
    "    mean = summation / len(givenArray)\n",
    "    return mean\n",
    "    \n",
    "def calculateStandardDeviation(givenArray):\n",
    "    # find the mean\n",
    "    mean = calculateMean(givenArray)\n",
    "    \n",
    "    # actually calculating the variance\n",
    "    mathprocess = lambda x: math.pow((x-mean),2)\n",
    "    updatedArray = map(mathprocess,givenArray)\n",
    "    summation = sum(updatedArray)\n",
    "    # calculating the variance \n",
    "    Variance = (1/(len(givenArray)-1)) * summation\n",
    "  \n",
    "    # calculating the standard deviation\n",
    "    standardDeviation = math.sqrt(Variance)\n",
    "    \n",
    "    return (mean, standardDeviation)\n",
    "    \n",
    "\n",
    "A = [0,1,2,3,4,5,6,7,8,9,10,11,12]\n",
    "B = [0,0,0,12,7,18,47,25,0,13,0,35]\n",
    "C = np.random.exponential(scale=43, size=1000)\n",
    "\n",
    "\n",
    "print(\"     MEAN : STANDARD DEVATION\")\n",
    "print(\"A: \",calculateStandardDeviation(A))\n",
    "print()\n",
    "print(\"B: \", calculateStandardDeviation(B))\n",
    "print()\n",
    "print(\"C: \", calculateStandardDeviation(C))"
   ]
  },
  {
   "cell_type": "markdown",
   "metadata": {},
   "source": [
    "**Part B:** Compute and print  the mean and standard deviation of the new data set formed by subtracting the original mean from each observation."
   ]
  },
  {
   "cell_type": "code",
   "execution_count": 105,
   "metadata": {},
   "outputs": [
    {
     "name": "stdout",
     "output_type": "stream",
     "text": [
      "     MEAN : STANDARD DEVATION\n",
      "A:  (0.0, 3.8944404818493075)\n",
      "\n",
      "B:  (-1.1842378929335002e-15, 15.64061341120571)\n",
      "\n",
      "C:  (2.6474822334421333e-14, 40.34590430080258)\n"
     ]
    }
   ],
   "source": [
    "# going to just call the functions above again\n",
    "def scrubValues(givenArray): \n",
    "    mean = calculateMean(givenArray)\n",
    "    scrubber = lambda x: x - mean\n",
    "    scrubbedValues = list(map(scrubber, givenArray))\n",
    "    return scrubbedValues\n",
    "\n",
    "D = [0,1,2,3,4,5,6,7,8,9,10,11,12]\n",
    "E = [0,0,0,12,7,18,47,25,0,13,0,35]\n",
    "F = np.random.exponential(scale=43, size=1000)\n",
    "\n",
    "print(\"     MEAN : STANDARD DEVATION\")\n",
    "print(\"A: \", calculateStandardDeviation(scrubValues(A)))\n",
    "print()\n",
    "print(\"B: \", calculateStandardDeviation(scrubValues(B)))\n",
    "print()\n",
    "print(\"C: \", calculateStandardDeviation(scrubValues(C)))"
   ]
  },
  {
   "cell_type": "markdown",
   "metadata": {},
   "source": [
    "**Part C:** Compute and print  the mean and standard deviation of the new data set formed by subtracting the original mean from each observation and then dividing by the original standard deviation."
   ]
  },
  {
   "cell_type": "code",
   "execution_count": 106,
   "metadata": {},
   "outputs": [
    {
     "name": "stdout",
     "output_type": "stream",
     "text": [
      "A:  MEAN:  -5.124106267500723e-17   STANDARD DEVIATION:  0.9999999999999999\n",
      "\n",
      "B:  MEAN:  -1.850371707708594e-17   STANDARD DEVIATION:  0.9999999999999999\n",
      "\n",
      "C:  MEAN:  6.32160990222e-16   STANDARD DEVIATION:  0.9999999999999998\n",
      "\n"
     ]
    }
   ],
   "source": [
    "# gathering the original calculations before modifying the data set\n",
    "Original_A_Values = calculateStandardDeviation(A)\n",
    "Original_B_Values = calculateStandardDeviation(B)\n",
    "Original_C_Values = calculateStandardDeviation(C)\n",
    "\n",
    "# This function will subtract the mean and also divide by the original standard deviation\n",
    "def scrubValues2(givenArray): \n",
    "    mean = calculateMean(givenArray)\n",
    "    standardDeviation = calculateStandardDeviation(givenArray)\n",
    "    scrubber = lambda x: (x - mean) / standardDeviation[1]\n",
    "    scrubbedValues = list(map(scrubber, givenArray))\n",
    "    return scrubbedValues\n",
    "\n",
    "# Scrub the data then calculating the standard deviation\n",
    "A_Values = calculateStandardDeviation(scrubValues2(A))\n",
    "print(\"A: \", \"MEAN: \", A_Values[0], \"  STANDARD DEVIATION: \", A_Values[1])\n",
    "print()\n",
    "B_Values = calculateStandardDeviation(scrubValues2(B))\n",
    "print(\"B: \", \"MEAN: \", B_Values[0], \"  STANDARD DEVIATION: \", B_Values[1])\n",
    "print()\n",
    "C_Values = calculateStandardDeviation(scrubValues2(C))\n",
    "print(\"C: \", \"MEAN: \", C_Values[0], \"  STANDARD DEVIATION: \", C_Values[1])\n",
    "print()\n"
   ]
  },
  {
   "cell_type": "markdown",
   "metadata": {},
   "source": [
    "**Part D:** Why might this result matter?"
   ]
  },
  {
   "cell_type": "markdown",
   "metadata": {},
   "source": [
    "__Solution:__\n",
    " \n",
    "   This result matters because it tells us that if the data is all changed by a fixed amount then the spread (or deviation) is not effected."
   ]
  },
  {
   "cell_type": "markdown",
   "metadata": {},
   "source": [
    "**Part E:** Looking at each of the 3 data sets, come up with a real-world context where those kind of numbers might make for reasonable observations."
   ]
  },
  {
   "cell_type": "markdown",
   "metadata": {},
   "source": [
    "__Solution:__\n",
    "   \n",
    "   Consider a situation of a football season and we are suppose to keep track of every teams touchdowns in a week. \n",
    "      - The first untouched data represents week one for 13 teams and how many each team scored that week\n",
    "      - The second data array can represent week two of the football season but it could be the case that each team all scored as many touchdowns as they had in week one minus the average touchdowns of all teams combined. This would signify that the overall average performance of all 13 teams decreased by the average total touchdowns scored in week one. \n",
    "      - The third data set of data could be when we want to find the average spread in scores between week one and week two \n"
   ]
  },
  {
   "cell_type": "markdown",
   "metadata": {},
   "source": [
    "[Back to top](#top)\n",
    "<a/ id='p4'></a>\n",
    "\n",
    "## (35 pts) Problem 4: Data (monthly patterns)\n",
    "***\n",
    "\n",
    "NOAA's Physical Sciences division (https://www.esrl.noaa.gov/psd) houses an enormous amount of weather data.  Load `BoulderPrecip.csv` from the course page for the last 120 years of monthly precipitation data from Boulder.  Let's take a look!"
   ]
  },
  {
   "cell_type": "code",
   "execution_count": 112,
   "metadata": {},
   "outputs": [
    {
     "data": {
      "text/html": [
       "<div>\n",
       "<style>\n",
       "    .dataframe thead tr:only-child th {\n",
       "        text-align: right;\n",
       "    }\n",
       "\n",
       "    .dataframe thead th {\n",
       "        text-align: left;\n",
       "    }\n",
       "\n",
       "    .dataframe tbody tr th {\n",
       "        vertical-align: top;\n",
       "    }\n",
       "</style>\n",
       "<table border=\"1\" class=\"dataframe\">\n",
       "  <thead>\n",
       "    <tr style=\"text-align: right;\">\n",
       "      <th></th>\n",
       "      <th>Year</th>\n",
       "      <th>JAN</th>\n",
       "      <th>FEB</th>\n",
       "      <th>MAR</th>\n",
       "      <th>APR</th>\n",
       "      <th>MAY</th>\n",
       "      <th>JUN</th>\n",
       "      <th>JUL</th>\n",
       "      <th>AUG</th>\n",
       "      <th>SEP</th>\n",
       "      <th>OCT</th>\n",
       "      <th>NOV</th>\n",
       "      <th>DEC</th>\n",
       "      <th>YEAR TOTAL</th>\n",
       "    </tr>\n",
       "  </thead>\n",
       "  <tbody>\n",
       "    <tr>\n",
       "      <th>0</th>\n",
       "      <td>1900</td>\n",
       "      <td>0.4</td>\n",
       "      <td>1.06</td>\n",
       "      <td>0.75</td>\n",
       "      <td>9.18</td>\n",
       "      <td>1.84</td>\n",
       "      <td>0.49</td>\n",
       "      <td>0.48</td>\n",
       "      <td>0.22</td>\n",
       "      <td>1.54</td>\n",
       "      <td>0.13</td>\n",
       "      <td>0.19</td>\n",
       "      <td>0.61</td>\n",
       "      <td>16.89</td>\n",
       "    </tr>\n",
       "    <tr>\n",
       "      <th>1</th>\n",
       "      <td>1901</td>\n",
       "      <td>0.53</td>\n",
       "      <td>0.3</td>\n",
       "      <td>1.74</td>\n",
       "      <td>3.51</td>\n",
       "      <td>1.62</td>\n",
       "      <td>1.76</td>\n",
       "      <td>0.46</td>\n",
       "      <td>1.69</td>\n",
       "      <td>0.16</td>\n",
       "      <td>0.65</td>\n",
       "      <td>Tr</td>\n",
       "      <td>1.43</td>\n",
       "      <td>13.85</td>\n",
       "    </tr>\n",
       "    <tr>\n",
       "      <th>2</th>\n",
       "      <td>1902</td>\n",
       "      <td>0.37</td>\n",
       "      <td>0.48</td>\n",
       "      <td>1.48</td>\n",
       "      <td>1.01</td>\n",
       "      <td>2.32</td>\n",
       "      <td>1.46</td>\n",
       "      <td>1.26</td>\n",
       "      <td>0.53</td>\n",
       "      <td>5.46</td>\n",
       "      <td>1.44</td>\n",
       "      <td>1.29</td>\n",
       "      <td>1.34</td>\n",
       "      <td>18.44</td>\n",
       "    </tr>\n",
       "    <tr>\n",
       "      <th>3</th>\n",
       "      <td>1903</td>\n",
       "      <td>0.08</td>\n",
       "      <td>1.52</td>\n",
       "      <td>1.45</td>\n",
       "      <td>2.31</td>\n",
       "      <td>2.02</td>\n",
       "      <td>1.87</td>\n",
       "      <td>0.95</td>\n",
       "      <td>1.46</td>\n",
       "      <td>1.31</td>\n",
       "      <td>3.43</td>\n",
       "      <td>0.15</td>\n",
       "      <td>0.16</td>\n",
       "      <td>16.71</td>\n",
       "    </tr>\n",
       "    <tr>\n",
       "      <th>4</th>\n",
       "      <td>1904</td>\n",
       "      <td>0.09</td>\n",
       "      <td>0.31</td>\n",
       "      <td>2.37</td>\n",
       "      <td>1.45</td>\n",
       "      <td>5.35</td>\n",
       "      <td>2.72</td>\n",
       "      <td>1.05</td>\n",
       "      <td>1.00</td>\n",
       "      <td>1.6</td>\n",
       "      <td>1.06</td>\n",
       "      <td>0.08</td>\n",
       "      <td>0.7</td>\n",
       "      <td>17.78</td>\n",
       "    </tr>\n",
       "  </tbody>\n",
       "</table>\n",
       "</div>"
      ],
      "text/plain": [
       "   Year   JAN   FEB   MAR   APR   MAY   JUN   JUL   AUG   SEP   OCT   NOV  \\\n",
       "0  1900   0.4  1.06  0.75  9.18  1.84  0.49  0.48  0.22  1.54  0.13  0.19   \n",
       "1  1901  0.53   0.3  1.74  3.51  1.62  1.76  0.46  1.69  0.16  0.65    Tr   \n",
       "2  1902  0.37  0.48  1.48  1.01  2.32  1.46  1.26  0.53  5.46  1.44  1.29   \n",
       "3  1903  0.08  1.52  1.45  2.31  2.02  1.87  0.95  1.46  1.31  3.43  0.15   \n",
       "4  1904  0.09  0.31  2.37  1.45  5.35  2.72  1.05  1.00   1.6  1.06  0.08   \n",
       "\n",
       "    DEC YEAR TOTAL  \n",
       "0  0.61      16.89  \n",
       "1  1.43      13.85  \n",
       "2  1.34      18.44  \n",
       "3  0.16      16.71  \n",
       "4   0.7      17.78  "
      ]
     },
     "execution_count": 112,
     "metadata": {},
     "output_type": "execute_result"
    }
   ],
   "source": [
    "dfPrecip = pd.read_csv('../Data/BoulderPrecip.csv')\n",
    "dfPrecip.head()"
   ]
  },
  {
   "cell_type": "markdown",
   "metadata": {},
   "source": [
    "**Part A:** SCRUBBING!  Our data set is going to be tough to use for a few reasons.\n",
    "\n",
    "1) When the amount of precipitation was nonzero but too small to be recorded, this data set recorded `tr`.  Replace these with zeroes.\n",
    "\n",
    "2) 2020 isn't over yet!  We have one row at the bottom that isn't fully complete and NA values have been filled into the months that haven't happened yet.  This can wreak havoc on a lot of our methods!  Drop the 2020 data entirely.\n",
    "\n",
    "3) You may have some object typing issues relating to columns that contained both \"Tr\"/\"NA\" and numeric values.  Ensure that Python is treating all of your data as numeric!"
   ]
  },
  {
   "cell_type": "code",
   "execution_count": 113,
   "metadata": {},
   "outputs": [
    {
     "data": {
      "text/html": [
       "<div>\n",
       "<style>\n",
       "    .dataframe thead tr:only-child th {\n",
       "        text-align: right;\n",
       "    }\n",
       "\n",
       "    .dataframe thead th {\n",
       "        text-align: left;\n",
       "    }\n",
       "\n",
       "    .dataframe tbody tr th {\n",
       "        vertical-align: top;\n",
       "    }\n",
       "</style>\n",
       "<table border=\"1\" class=\"dataframe\">\n",
       "  <thead>\n",
       "    <tr style=\"text-align: right;\">\n",
       "      <th></th>\n",
       "      <th>Year</th>\n",
       "      <th>JAN</th>\n",
       "      <th>FEB</th>\n",
       "      <th>MAR</th>\n",
       "      <th>APR</th>\n",
       "      <th>MAY</th>\n",
       "      <th>JUN</th>\n",
       "      <th>JUL</th>\n",
       "      <th>AUG</th>\n",
       "      <th>SEP</th>\n",
       "      <th>OCT</th>\n",
       "      <th>NOV</th>\n",
       "      <th>DEC</th>\n",
       "      <th>YEAR TOTAL</th>\n",
       "    </tr>\n",
       "  </thead>\n",
       "  <tbody>\n",
       "    <tr>\n",
       "      <th>115</th>\n",
       "      <td>2015.0</td>\n",
       "      <td>0.38</td>\n",
       "      <td>3.69</td>\n",
       "      <td>0.38</td>\n",
       "      <td>4.50</td>\n",
       "      <td>7.82</td>\n",
       "      <td>1.76</td>\n",
       "      <td>2.98</td>\n",
       "      <td>0.31</td>\n",
       "      <td>0.14</td>\n",
       "      <td>2.02</td>\n",
       "      <td>1.83</td>\n",
       "      <td>1.11</td>\n",
       "      <td>27.39</td>\n",
       "    </tr>\n",
       "    <tr>\n",
       "      <th>116</th>\n",
       "      <td>2016.0</td>\n",
       "      <td>0.37</td>\n",
       "      <td>1.44</td>\n",
       "      <td>3.84</td>\n",
       "      <td>3.34</td>\n",
       "      <td>2.01</td>\n",
       "      <td>2.37</td>\n",
       "      <td>0.61</td>\n",
       "      <td>1.06</td>\n",
       "      <td>0.45</td>\n",
       "      <td>0.38</td>\n",
       "      <td>0.47</td>\n",
       "      <td>0.91</td>\n",
       "      <td>17.25</td>\n",
       "    </tr>\n",
       "    <tr>\n",
       "      <th>117</th>\n",
       "      <td>2017.0</td>\n",
       "      <td>1.41</td>\n",
       "      <td>0.73</td>\n",
       "      <td>1.45</td>\n",
       "      <td>3.15</td>\n",
       "      <td>6.29</td>\n",
       "      <td>0.45</td>\n",
       "      <td>1.30</td>\n",
       "      <td>1.62</td>\n",
       "      <td>1.92</td>\n",
       "      <td>2.42</td>\n",
       "      <td>0.57</td>\n",
       "      <td>0.68</td>\n",
       "      <td>21.89</td>\n",
       "    </tr>\n",
       "    <tr>\n",
       "      <th>118</th>\n",
       "      <td>2018.0</td>\n",
       "      <td>0.74</td>\n",
       "      <td>1.04</td>\n",
       "      <td>2.23</td>\n",
       "      <td>1.35</td>\n",
       "      <td>4.76</td>\n",
       "      <td>1.82</td>\n",
       "      <td>1.84</td>\n",
       "      <td>0.24</td>\n",
       "      <td>1.02</td>\n",
       "      <td>2.68</td>\n",
       "      <td>1.19</td>\n",
       "      <td>0.34</td>\n",
       "      <td>19.01</td>\n",
       "    </tr>\n",
       "    <tr>\n",
       "      <th>119</th>\n",
       "      <td>2019.0</td>\n",
       "      <td>1.57</td>\n",
       "      <td>0.74</td>\n",
       "      <td>2.83</td>\n",
       "      <td>1.87</td>\n",
       "      <td>3.89</td>\n",
       "      <td>2.12</td>\n",
       "      <td>2.21</td>\n",
       "      <td>0.10</td>\n",
       "      <td>0.56</td>\n",
       "      <td>2.42</td>\n",
       "      <td>2.38</td>\n",
       "      <td>0.35</td>\n",
       "      <td>21.04</td>\n",
       "    </tr>\n",
       "  </tbody>\n",
       "</table>\n",
       "</div>"
      ],
      "text/plain": [
       "       Year   JAN   FEB   MAR   APR   MAY   JUN   JUL   AUG   SEP   OCT   NOV  \\\n",
       "115  2015.0  0.38  3.69  0.38  4.50  7.82  1.76  2.98  0.31  0.14  2.02  1.83   \n",
       "116  2016.0  0.37  1.44  3.84  3.34  2.01  2.37  0.61  1.06  0.45  0.38  0.47   \n",
       "117  2017.0  1.41  0.73  1.45  3.15  6.29  0.45  1.30  1.62  1.92  2.42  0.57   \n",
       "118  2018.0  0.74  1.04  2.23  1.35  4.76  1.82  1.84  0.24  1.02  2.68  1.19   \n",
       "119  2019.0  1.57  0.74  2.83  1.87  3.89  2.12  2.21  0.10  0.56  2.42  2.38   \n",
       "\n",
       "      DEC  YEAR TOTAL  \n",
       "115  1.11       27.39  \n",
       "116  0.91       17.25  \n",
       "117  0.68       21.89  \n",
       "118  0.34       19.01  \n",
       "119  0.35       21.04  "
      ]
     },
     "execution_count": 113,
     "metadata": {},
     "output_type": "execute_result"
    }
   ],
   "source": [
    "dfPrecip = dfPrecip.where(dfPrecip.values != 'Tr', 0) # replacing all the 'Tr' with 0\n",
    "newPreciDdf = dfPrecip.drop([120]) # dropping the last row \n",
    "finalPrecipDf = newPreciDdf.astype('float') # converting all values to floats\n",
    "\n",
    "\n",
    "finalPrecipDf.tail()"
   ]
  },
  {
   "cell_type": "markdown",
   "metadata": {},
   "source": [
    "**Part B:** Generate a series of 12 box plots with month as the x axis and precipitation on the y-axis."
   ]
  },
  {
   "cell_type": "code",
   "execution_count": 114,
   "metadata": {},
   "outputs": [
    {
     "data": {
      "text/plain": [
       "<matplotlib.text.Text at 0x11762c2e8>"
      ]
     },
     "execution_count": 114,
     "metadata": {},
     "output_type": "execute_result"
    },
    {
     "data": {
      "image/png": "[encoded data removed]",
      "text/plain": [
       "<matplotlib.figure.Figure at 0x111ec9588>"
      ]
     },
     "metadata": {},
     "output_type": "display_data"
    }
   ],
   "source": [
    "# gather the months \n",
    "months = list(finalPrecipDf.columns)[1:12]\n",
    "\n",
    "# construct the boxplot\n",
    "fig, ax = plt.subplots(figsize=(6,6))\n",
    "boxplot = finalPrecipDf.boxplot(column=months, ax=ax)\n",
    "\n",
    "ax.set_title(\"Precipiation by Month\", fontsize=18)\n",
    "ax.set_ylabel(\"Preicipation Sum ( inches )\", fontsize=16)"
   ]
  },
  {
   "cell_type": "markdown",
   "metadata": {},
   "source": [
    "\n",
    "**Part C:** Spring is the wet season in Boulder.   But what is Spring?\n",
    "\n",
    "Atmospheric scientists love to group months seasonally, breaking the year into a Winter season including December, January, February; a Spring including March, April, and May; and so forth.\n",
    "\n",
    "The solar year, however, says that Spring runs from near the end of March until near the end of June: let's round at the nearest month and say that it includes the months of April, May and June.\n",
    "\n",
    "Generate a box plot with precipitation on the y-axis and the two possible monthly 'Spring' groupings (March-May versus April-June) as the x-axis."
   ]
  },
  {
   "cell_type": "markdown",
   "metadata": {},
   "source": [
    "### Process\n",
    "  1. Get the two groups column data\n",
    "  2. For each of the groups do the following\n",
    "      - sum the precipation values "
   ]
  },
  {
   "cell_type": "code",
   "execution_count": null,
   "metadata": {
    "collapsed": true,
    "scrolled": true
   },
   "outputs": [],
   "source": [
    "# two different spring ranges\n",
    "sp1 = finalPrecipDf[[\"MAR\", \"APR\", \"MAY\"]]\n",
    "sp2 = finalPrecipDf[[\"APR\", \"JUN\", \"JUL\"]]\n",
    "\n",
    "# need to merge the columns together \n",
    "sp1_data = np.sum(sp1.values, axis=1)\n",
    "sp2_data = np.sum(sp2.values, axis=1)\n",
    "\n",
    "# create the dataframe \n",
    "springDfs = pd.DataFrame({\"Mar-May\": sp1_data , \"Apr-Jul\": sp2_data})\n",
    "\n",
    "# create the boxplot\n",
    "fig, ax = plt.subplots(figsize=(6,6))\n",
    "boxplot = springDfs.boxplot(column=[\"Mar-May\", \"Apr-Jul\"], ax=ax, return_type='dict')\n",
    "ax.set_title('Spring Comparison (12 year accumulation)', fontsize=18)\n",
    "ax.set_ylabel(\"Annual Preicipation Sum ( inches )\", fontsize=16)"
   ]
  },
  {
   "cell_type": "markdown",
   "metadata": {},
   "source": [
    "**Part D:** These might look pretty similar!  Highlight and comment on any differences by calculating the mean, standard deviation, and a Tukey five number summary of each classification of Spring.  Is there a reason here to favor one grouping over the other?"
   ]
  },
  {
   "cell_type": "code",
   "execution_count": null,
   "metadata": {
    "collapsed": true
   },
   "outputs": [],
   "source": [
    "def computeMedian2(givenArray) :\n",
    "    givenArray.sort()\n",
    "    if len(givenArray) % 2  == 0 : # n is even\n",
    "        x1_index = (len(givenArray) // 2) + 1 \n",
    "        x2_index = len(givenArray) // 2\n",
    "        return (givenArray[x1_index] + givenArray[x2_index]) / 2\n",
    "    else:   # n is odd\n",
    "        median_index = len(givenArray) // 2\n",
    "        return median_index\n",
    "\n",
    "# Summary for Mar-May\n",
    "sp1_median = computeMedian2(sp1_data) # pass the array for sp1\n",
    "spring1min = sp1_data.min(axis=0)\n",
    "spring1max = sp1_data.max(axis=0)\n",
    "sp1_q1 = computeMedian2(sp1_data[0:len(sp1_data) // 2])\n",
    "sp1_q3 = computeMedian2(sp1_data[len(sp1_data) // 2:])\n",
    "sp1_mean = calculateMean(sp1_data)\n",
    "sp1_SD = calculateStandardDeviation(sp1_data)\n",
    "\n",
    "print(\"TUKEY SUMMARY: SP1\")\n",
    "print(\"------------------\")\n",
    "print(\"MIN: \", spring1min)\n",
    "print(\"Q1: \", sp1_q1)\n",
    "print(\"MEDIAN: \", sp1_median)\n",
    "print(\"Q3: \", sp1_q3)\n",
    "print(\"MAX: \", spring1max)\n",
    "print(\"MEAN: \", sp1_mean)\n",
    "print(\"STANDARD DEVIATION: \", sp1_SD[1])\n",
    "\n",
    "\n",
    "\n",
    "# Summary for Apr-Jul\n",
    "sp2_median = computeMedian2(sp2_data) # pass the array for sp2\n",
    "spring2min = sp2_data.min(axis=0)\n",
    "spring2max = sp1_data.max(axis=0)\n",
    "sp2_q1 = computeMedian2(sp1_data[0:len(sp1_data) // 2])\n",
    "sp2_q3 = computeMedian2(sp1_data[len(sp1_data) // 2:])\n",
    "sp2_mean = calculateMean(sp2_data)\n",
    "sp2_SD = calculateStandardDeviation(sp2_data)\n",
    "print()\n",
    "print(\"TUKEY SUMMARY: SP2\")\n",
    "print(\"------------------\")\n",
    "print(\"MIN: \", spring2min)\n",
    "print(\"Q1: \", sp2_q1)\n",
    "print(\"MEDIAN: \", sp2_median)\n",
    "print(\"Q3: \", sp2_q3)\n",
    "print(\"MAX: \", spring2max)\n",
    "print(\"MEAN: \", sp2_mean)\n",
    "print(\"STANDARD DEVIATION: \", sp2_SD[1])\n"
   ]
  },
  {
   "cell_type": "markdown",
   "metadata": {},
   "source": [
    "**Analysis: **\n",
    "  Based on the values above I would favor the spring range from March - May timeframe. The most obvious reason being that the average inches of rain in this rain is larger. It is safe to use the mean to compare the two timeframes because the standard deviation between the two are relatively similar so its safe to say the calculated average of both are not greatly affected by any outliars or anomolies. "
   ]
  },
  {
   "cell_type": "markdown",
   "metadata": {},
   "source": [
    "**Part E:** Create a density histogram of the September precipitation.  Classify and describe this histogram, including discussion of any skewness, multimodality, or outliers.  Find the data point associated with September, 2013, and recreate your histogram with that value in a different color or otherwise clearly marked."
   ]
  },
  {
   "cell_type": "code",
   "execution_count": null,
   "metadata": {
    "collapsed": true
   },
   "outputs": [],
   "source": [
    "# Initialize figure and axis\n",
    "fig, ax = plt.subplots(figsize=(8,4))\n",
    "\n",
    "# Plot histogram \n",
    "n, bins, patches = plt.hist(finalPrecipDf[\"SEP\"], bins=np.arange(0,20,1), align=\"left\", facecolor=\"green\")\n",
    "\n",
    "ax.set_title('September Density Diagram', fontsize=17)\n",
    "ax.set_ylabel(\"Occurence Count\", fontsize=16)\n",
    "ax.set_xlabel(\"Precip Amount (inches)\", fontsize=16)\n",
    "patches[18].set_facecolor(\"magenta\")  # 2013 data is in 18 bin range"
   ]
  },
  {
   "cell_type": "markdown",
   "metadata": {},
   "source": [
    "**Anaylsis**\n",
    "\n",
    "   The historgram is clearly skewed to the left and we see and outliar for September 2013. This histogram is unimodal."
   ]
  },
  {
   "cell_type": "markdown",
   "metadata": {},
   "source": [
    "# RESOURCES / COLLABORATORS: \n",
    "    stackoverflow for plotting and changing bar colors : https://stackoverflow.com/questions/42840044/color-a-specific-bar-in-histogram-using-python\n",
    "    used panda official documentation\n",
    "    \n",
    "    \n",
    "    Bao Nguyen\n",
    "    Zach Chommala"
   ]
  },
  {
   "cell_type": "code",
   "execution_count": 5,
   "metadata": {
    "collapsed": true
   },
   "outputs": [],
   "source": [
    "def w(p):\n",
    "    x = 0\n",
    "    y = 0 \n",
    "    while y < 5:\n",
    "        draw = np.random.choice([0,1], p=[1-p, p])\n",
    "        y += 1\n",
    "        if draw == 1:\n",
    "            x += 1\n",
    "    return x"
   ]
  },
  {
   "cell_type": "code",
   "execution_count": 18,
   "metadata": {
    "collapsed": true
   },
   "outputs": [],
   "source": [
    "def f(p):\n",
    "    top = 5 * p\n",
    "    bot = 1 - p\n",
    "    return top/bot\n"
   ]
  },
  {
   "cell_type": "code",
   "execution_count": 36,
   "metadata": {
    "collapsed": true
   },
   "outputs": [],
   "source": [
    "p = 0.5"
   ]
  },
  {
   "cell_type": "code",
   "execution_count": 37,
   "metadata": {},
   "outputs": [
    {
     "name": "stdout",
     "output_type": "stream",
     "text": [
      "2.505050505050505\n"
     ]
    }
   ],
   "source": [
    "sum = 0\n",
    "for i in range(100):\n",
    "    sum += w(p)\n",
    "print(sum / i)"
   ]
  },
  {
   "cell_type": "code",
   "execution_count": 24,
   "metadata": {},
   "outputs": [
    {
     "name": "stdout",
     "output_type": "stream",
     "text": [
      "5.0\n"
     ]
    }
   ],
   "source": [
    "print(1/p)"
   ]
  },
  {
   "cell_type": "code",
   "execution_count": 24,
   "metadata": {},
   "outputs": [],
   "source": [
    "file = 2000  # file is 2000 blocks\n",
    "# compute the size of an index block \n",
    "entrysize = 4\n",
    "totalcounts = 15 \n",
    "size = entrysize * totalcounts\n",
    "\n",
    "remain = file - 12# remaining disk blocks to allocate \n",
    "single = remain / 15\n",
    "double = single / 15\n",
    "triple = double / 15"
   ]
  },
  {
   "cell_type": "code",
   "execution_count": 25,
   "metadata": {},
   "outputs": [
    {
     "name": "stdout",
     "output_type": "stream",
     "text": [
      "132.53333333333333\n",
      "8.835555555555555\n",
      "0.589037037037037\n"
     ]
    }
   ],
   "source": [
    "print(single)\n",
    "print(double)\n",
    "print(triple)"
   ]
  },
  {
   "cell_type": "code",
   "execution_count": 28,
   "metadata": {},
   "outputs": [
    {
     "name": "stdout",
     "output_type": "stream",
     "text": [
      "8640\n"
     ]
    }
   ],
   "source": [
    "total = 0\n",
    "total += (size*133)\n",
    "total += (size*9)\n",
    "total += (size*2) # + 1 for the inital block \n",
    "print(total)"
   ]
  },
  {
   "cell_type": "code",
   "execution_count": 40,
   "metadata": {},
   "outputs": [
    {
     "name": "stdout",
     "output_type": "stream",
     "text": [
      "1125\n"
     ]
    }
   ],
   "source": [
    "blocks = 0\n",
    "# going into the first block\n",
    "blocks = + 12\n",
    "\n",
    "# single index blocks point to 15 spots of data\n",
    "# double index blocks point to 15 single blocks\n",
    "# triple index blocks point to 15 double index blocks\n",
    "\n",
    "# figuring out how many blocks are encapuslated in a double index block\n",
    "rang = 15**2\n",
    "print(rang*5)"
   ]
  },
  {
   "cell_type": "code",
   "execution_count": 44,
   "metadata": {},
   "outputs": [
    {
     "name": "stdout",
     "output_type": "stream",
     "text": [
      "11.466666666666667\n"
     ]
    }
   ],
   "source": [
    "print((172)/15)"
   ]
  },
  {
   "cell_type": "code",
   "execution_count": null,
   "metadata": {
    "collapsed": true
   },
   "outputs": [],
   "source": []
  }
 ],
 "metadata": {
  "kernelspec": {
   "display_name": "Python 3",
   "language": "python",
   "name": "python3"
  },
  "language_info": {
   "codemirror_mode": {
    "name": "ipython",
    "version": 3
   },
   "file_extension": ".py",
   "mimetype": "text/x-python",
   "name": "python",
   "nbconvert_exporter": "python",
   "pygments_lexer": "ipython3",
   "version": "3.6.1"
  }
 },
 "nbformat": 4,
 "nbformat_minor": 2
}
