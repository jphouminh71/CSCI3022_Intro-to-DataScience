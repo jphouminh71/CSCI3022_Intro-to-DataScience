{
 "cells": [
  {
   "cell_type": "markdown",
   "metadata": {},
   "source": [
    "#### <a id='top'></a>\n",
    "\n",
    "# Homework 4: Bayes' for Days\n",
    "***\n",
    "\n",
    "**Name**: Jonathan Phouminh\n",
    "\n",
    "***\n",
    "\n",
    "This assignment is due on Canvas by **MIDNIGHT on Monday September 28**. Your solutions to theoretical questions should be done in Markdown directly below the associated question.  Your solutions to computational questions should include any specified Python code and results as well as written commentary on your conclusions.  Remember that you are encouraged to discuss the problems with your classmates, but **you must write all code and solutions on your own**.\n",
    "\n",
    "**NOTES**: \n",
    "\n",
    "- Any relevant data sets should be available under the **Data** module on Canvas. To make life easier on the graders if they need to run your code, do not change the relative path names here. Instead, move the files around on your computer.\n",
    "- If you're not familiar with typesetting math directly into Markdown then by all means, do your work on paper first and then typeset it later.  Remember that there is a [reference guide](https://math.meta.stackexchange.com/questions/5020/mathjax-basic-tutorial-and-quick-reference) linked on Canvas on writing math in Markdown. **All** of your written commentary, justifications and mathematical work should be in Markdown.\n",
    "- Because you can technically evaluate notebook cells is a non-linear order, it's a good idea to do Kernel $\\rightarrow$ Restart & Run All as a check before submitting your solutions.  That way if we need to run your code you will know that it will work as expected. \n",
    "- It is **bad form** to make your reader interpret numerical output from your code.  If a question asks you to compute some value from the data you should show your code output **AND** write a summary of the results in Markdown directly below your code. \n",
    "- 95 points of this assignment are in problems.  The remaining 5 are for neatness, style, and overall exposition of both code and text.\n",
    "- This probably goes without saying, but... For any question that asks you to calculate something, you **must show all work and justify your answers to receive credit**. Sparse or nonexistent work will receive sparse or nonexistent credit. \n",
    "\n",
    "---\n",
    "**Shortcuts:**  [Problem 1](#p1) | [Problem 2](#p2) | [Problem 3](#p3) |\n",
    "\n",
    "---"
   ]
  },
  {
   "cell_type": "markdown",
   "metadata": {},
   "source": [
    "Collaborators: \n",
    "\n",
    "     Josh Bui \n",
    "     Zachary Chomalla\n",
    "     Bao Nguyen"
   ]
  },
  {
   "cell_type": "code",
   "execution_count": 118,
   "metadata": {},
   "outputs": [],
   "source": [
    "import pandas as pd\n",
    "import numpy as np\n",
    "import matplotlib.pylab as plt\n",
    "%matplotlib inline"
   ]
  },
  {
   "cell_type": "markdown",
   "metadata": {},
   "source": [
    "***\n",
    "<a/ id='p1'></a>\n",
    "[Back to top](#top)\n",
    "\n",
    "## (15 pts) Problem 1: Theory (Bayes)\n",
    "***\n",
    "\n"
   ]
  },
  {
   "cell_type": "markdown",
   "metadata": {},
   "source": [
    "To get published in an academic journal, you have to prove something \"interesting.\"  As a result, most academics begin their research by investigating hypotheses that, all else equal, are unlikely to be true.  Suppose each research project begins with a research *hypothesis* that has a 12% chance of being correct.\n",
    "\n",
    "They then perform a study that satisfies the following two properties:\n",
    "\n",
    "    1) The probability that they correctly *find* an important result given that their *hypothesis* is true is 40%\n",
    "    2) The probability that they incorrectly *find* an important result given that their *hypothesis* is false is 5%\n",
    "\n",
    "If they *find* an important result they are published.  What is the probability that their *hypothesis* was true, given that they were published?"
   ]
  },
  {
   "cell_type": "markdown",
   "metadata": {},
   "source": [
    "P(Correct) = 12/100 <br>\n",
    "P(Important | Correct) = 40 / 100 <br>\n",
    "P(!Important | !Correct) = 5/100 <br>\n",
    "\n",
    "Being published implies that they found an important result. So we are looking for \n",
    "\n",
    "$$ P( Correct  ||  Publised ) $$\n",
    "\n",
    "Examining Bayes Theorm, we must find the the value of P(Published)\n",
    "\n",
    "\n",
    "via Law of Total Prob. we know,\n",
    "P(Published) = P(Important | Correct) + P(Important | !Correct)\n",
    "\n",
    "So from here, we can can plug in our knowns into the formula and get\n",
    "\n",
    "$$ \\frac{\\frac{40}{100}* \\frac{12}{100}}{\\frac{40 * .012}{100} + \\frac{5 * .88}{100}}$$\n",
    "\n",
    "\n",
    "And we get the P(Correct | Published) is around **52.17%**\n",
    "\n",
    "\n",
    "\n",
    "\n"
   ]
  },
  {
   "cell_type": "markdown",
   "metadata": {},
   "source": [
    "[Back to top](#top)\n",
    "<a id='p2'></a>\n",
    "\n",
    "## (40 pts) Problem 2: Computation (Iterative Bayes)\n",
    "***\n",
    "\n",
    "You have decided you want to play a game with your roommate. Since you're both in Introduction to Data Science, you have your big bag of mixed dice, and you know you can do something interesting with dice!\n",
    "\n",
    "Unfortunately, you're trying to play while you bake (or maybe you've just come down with the chicken pox like Phoebe), so you're playing while wearing oven mitts that you simply cannot remove. Because of this fact, you can use your hands to pull dice from the bag, but cannot feel the dice.\n",
    "\n",
    "<img style=\"width: 200px; padding: 3mm;\" src=\"https://img.sharetv.com/shows/episodes/standard/204702.jpg\" alt=\"Phoebe with chicken pox in oven mitts\"/>\n",
    "\n",
    "Double unfortunately, you've been trapped in these oven mitts while wearing your ultra comfortable Ostrich Pillow because you were napping! Because of this fact, you also cannot see the dice you pull from the bag.\n",
    "\n",
    "<img style=\"width: 200px; padding: 3mm;\" src=\"https://i.pinimg.com/originals/d7/a3/6a/d7a36ab2216276c17c1b8b575fccad54.jpg\" alt=\"Phoebe with chicken pox in oven mitts\"/>\n",
    "\n",
    "Are you neither baking nor chicken poxed, and your roommate perhaps orchestrated this scenario to make this absurd situation arise? Who can say!\n",
    "\n",
    "In your collection, you own:\n",
    "* 20 fair six-sided dice (**S**), with faces `{1,2,3,4,5,6}`.\n",
    "* 15 fair eight-sided dice (**E**), with faces `{1,2,3,4,5,6,7,8}`.\n",
    "* 3 fair twenty-sided dice(**T**) (faces `{1,2,3,4,...,19,20}`).\n",
    "* 2 fair one-hundred-sided dice (**H**) (faces `{1,2,3,4,...,99,100}`).\n",
    "\n",
    "You and your roommate start to invent a game: you will blindly pull a die from the bag, roll the die, and your roommate will tell you what the result is. You will then guess how many sides - six, eight, twenty, or one hundred - the die you pulled has, and allocate points accordingly.\n",
    "\n",
    "But how many points are appropriate? _You'll need to figure out some probabilities here to determine what's fair!_\n",
    "\n",
    "Work the following problems by hand (or glove) for **Parts A through D and Part G** (but don't be afraid to simulate to check your result!). In **Parts E and F**, follow the instructions as written."
   ]
  },
  {
   "cell_type": "markdown",
   "metadata": {},
   "source": [
    "***\n",
    "**Part A**: You roll your die one time.  What is the probability of the event $R_7$, that you roll a 7?  Include at least 4 decimal places in your answer."
   ]
  },
  {
   "cell_type": "markdown",
   "metadata": {},
   "source": [
    "Solving using the law of total probability\n",
    "\n",
    "P($R_7$) = P($R_7$ | E)P(E) + P($R_7$ | T)P(T) + P($R_7$ | H)P(H) <br> <br>\n",
    "$\\frac{1}{8}*\\frac{15}{40} + \\frac{1}{20}*\\frac{3}{40} + \\frac{1}{100}*\\frac{2}{40}$ <br><br>\n",
    "\n",
    "= 0.0511\n",
    "\n",
    "**$R_7$ = 5.112%**"
   ]
  },
  {
   "cell_type": "markdown",
   "metadata": {},
   "source": [
    "***\n",
    "**Part B**: Suppose you roll a 7.  What is the probability that the die you chose from the bag is an Eight-sided die (**E**)? "
   ]
  },
  {
   "cell_type": "markdown",
   "metadata": {},
   "source": [
    "We approach this problem by applying Bayes Theorem. <br>\n",
    "\n",
    "P($R_7$ | E) = $\\frac{1}{8}$ <br>\n",
    "P(E) = $\\frac{15}{40}$ <br>\n",
    "P($R_7$) = 0.0511 <br>\n",
    "\n",
    "\n",
    "We solve for P(E | 7) by plugging these values into Bayes Theorem and we will find out that <br> $$P(E | 7) = 91.91%$$\n",
    "\n"
   ]
  },
  {
   "cell_type": "markdown",
   "metadata": {},
   "source": [
    "**Part C:**  Are the events $R_7$ and $E$ independent?  Justify your answer **using math**."
   ]
  },
  {
   "cell_type": "markdown",
   "metadata": {},
   "source": [
    "We determine if the two events by considering the following <br>\n",
    "$$P(A|B) = P(A)$$\n",
    "\n",
    "If the statement is true then we conclude that the two events are indepedent otherwise dependent. <br><br>\n",
    "\n",
    "P($R_7$|E) = P($R_7$) <br>\n",
    "1/8 = 0.0511 <br>\n",
    "\n",
    "This statement is false, therefore we conlude that these two events are **dependent**."
   ]
  },
  {
   "cell_type": "markdown",
   "metadata": {},
   "source": [
    "**Part D:**  Suppose you roll your die $n$ times and record each outcome.  Obviously, if you roll 7 or higher you did *not* pick a Six-sided die,  if you roll a 9 or higher you did not pick a Six-sided or an Eight-sided, and if you roll a 21 or higher you must have picked a One-hundred-sided die.\n",
    "\n",
    "But, if you roll $n$ times in a row and get only 1, 2, 3, 4, 5, or 6 you would have a stronger belief that you in fact grabbed one of the Six-sided dice.  Let $L_n$ be the event that you roll $n$ rolls of 1, 2, 3, 4, 5, or 6 in a row.  For example, one possible outcome in $L_3$ is the sequence 2, 3, 1.\n",
    "\n",
    "Given that you roll a single value of 1, 2, 3, 4, 5, or 6, what is the probability that you have grabbed a Six-sided die?  That is, calculate **by hand** $P(S \\mid L_1)$."
   ]
  },
  {
   "cell_type": "markdown",
   "metadata": {},
   "source": [
    "We find P(S|$L_1$) by applying bayes theorm <br>\n",
    "\n",
    "So we need to determine    $$P(S|L_1) = \\frac{P(L_1| S) * P(S)} {P(L_1)} $$ <br>\n",
    "\n",
    "P($L_1$ | S) = 1  <br>\n",
    "P(S) = $\\frac{20}{40}$ <br>\n",
    "\n",
    "P($L_1$) is determined via law of total probability. <br> <br>\n",
    "\n",
    "P($L_1$) = P($L_1$ | S)P(S) + P($L_1$ | E)P(E) + P($L_1$ | T)P(T) + P($L_1$ | H)P(H) <br>\n",
    "\n",
    "P(S) = $\\frac{20}{40}$ <br>\n",
    "P($L_1$ | S) = 1 <br>\n",
    "P($L_1$ | E) = $\\frac{6}{8}$ <br>\n",
    "\n",
    "P(E) = $\\frac{15}{40}$ <br>\n",
    "P($L_1$ | T) = $\\frac{6}{100}$ <br>\n",
    "P(T) = $\\frac{3}{40}$ <br>\n",
    "P($L_1$ | H) = $\\frac{6}{100}$ <br>\n",
    "P(H) = $\\frac{2}{40}$\n",
    "<br><br>\n",
    "\n",
    "Now that we know what we need to apply bayes theorem we just crunch the numbers out and we will see that the probabilty of **P(S | $L_1$) = 62%** "
   ]
  },
  {
   "cell_type": "markdown",
   "metadata": {},
   "source": [
    "**Part E**:  \n",
    "\n",
    "First, work out **by hand** a formula for the probability in general that you are rolling a Six-sided die, given that you have rolled $n$ values in a row that are 1, 2, 3, 4, 5 or 6 (that is, $L_n$).  So you want a formula for $P(S \\mid L_n)$ in terms of $n$.\n",
    "\n",
    "Then, define a function `prob_six` to calculate $P(S \\mid L_n)$.  This function should only take one positive integer argument, $n$.\n",
    "\n",
    "Verify that your function is performing as expected by checking your answer to **Part D**."
   ]
  },
  {
   "cell_type": "markdown",
   "metadata": {},
   "source": [
    "For this equation we will build off the Bayes Theorem type equation from the last question. <br>\n",
    "\n",
    "We saw that for $L_1$ \n",
    "\n",
    "$$P(S|L_1) = \\frac{P(L_1| S) * P(S)} {P(L_1)}$$ <br> Where $L_1$ was equal to $$P(L_1) = P(L_1 | S)P(S) + P(L_1 | E)P(E) + P(L_1 | T)P(T) + P(L_1 | H)P(H)$$ <br>\n",
    "\n",
    "We will modify this equation such that we account for **n** amount of trials so we have <br> <br>\n",
    "\n",
    "\n",
    "$$P(S|L_n) = \\frac{P(L_n| S) * P(S)} {P(L_n)}$$ <br> \n",
    "\n",
    "But this time where $L_n$ was equal to $$P(L_n) = P(L_n| S)P(S) + P(L_n | E)P(E) + P(L_n | T)P(T) + P(L_n | H)P(H)$$ <br>"
   ]
  },
  {
   "cell_type": "markdown",
   "metadata": {},
   "source": [
    "More specficially, $P(L_n)$ is equal to <br>\n",
    "\n",
    "$$\n",
    "P(L_n) = (1^n * \\frac{20}{40}) + (\\frac{6}{8}^n * \\frac{15}{40}) + (\\frac{6}{20}^n * \\frac{3}{40}) + (\\frac{6}{100}^n * \\frac{2}{40})\n",
    "$$"
   ]
  },
  {
   "cell_type": "code",
   "execution_count": 119,
   "metadata": {},
   "outputs": [
    {
     "name": "stdout",
     "output_type": "stream",
     "text": [
      "N = 1  0.6197706848466068\n"
     ]
    }
   ],
   "source": [
    "def prob_six(n): \n",
    "    const_p6 = 20 / 40\n",
    "    const_p8 = 15 / 40\n",
    "    const_p20 = 3 / 40\n",
    "    const_p100 = 2 / 40\n",
    "    \n",
    "    #calculate L(n)\n",
    "    p6_prob = (1**n) * (const_p6)\n",
    "    p8_prob = ((6/8)**n) * (const_p8)\n",
    "    p20_prob = ((6/20)**n) * (const_p20)\n",
    "    p100_prob = ((6/100)**n) * (const_p100)\n",
    "    \n",
    "    Ln = p6_prob + p8_prob + p20_prob + p100_prob\n",
    "    \n",
    "    #calculate bayes theorem\n",
    "    return const_p6 / Ln\n",
    "\n",
    "d_answer = prob_six(1)\n",
    "print(\"N = 1 \", d_answer)"
   ]
  },
  {
   "cell_type": "markdown",
   "metadata": {},
   "source": [
    "**Part F:**  What is the smallest value of $n$ successive rolls of 1, 2, 3, 4, 5 or 6 that would make you believe that there's a better-than-95% chance that the die you grabbed is Six-sided?  Plugging larger and larger values for $n$ into your `prob_six` function is a very reasonable way to check this."
   ]
  },
  {
   "cell_type": "code",
   "execution_count": 120,
   "metadata": {},
   "outputs": [
    {
     "name": "stdout",
     "output_type": "stream",
     "text": [
      "N =  0   0.5\n",
      "N =  1   0.6197706848466068\n",
      "N =  2   0.696507363824104\n",
      "N =  3   0.7573016086562906\n",
      "N =  4   0.8074146609725164\n",
      "N =  5   0.848649264899005\n",
      "N =  6   0.8821506370122627\n",
      "N =  7   0.9089704950268221\n",
      "N =  8   0.9301507673469102\n",
      "N =  9   0.9466859895577822\n",
      "N =  10   0.9594755689833561\n",
      "N =  11   0.9692959817061354\n",
      "N =  12   0.9767939698995929\n",
      "N =  13   0.9824939503724516\n",
      "N =  14   0.9868127590897355\n",
      "N =  15   0.9900768577547726\n",
      "N =  16   0.9925391354628464\n",
      "N =  17   0.9943938952869543\n",
      "N =  18   0.9957895204542252\n",
      "N =  19   0.9968388128381561\n"
     ]
    }
   ],
   "source": [
    "for i in range(20):\n",
    "    a = prob_six(i)\n",
    "    print(\"N = \",i, \" \", a)"
   ]
  },
  {
   "cell_type": "markdown",
   "metadata": {},
   "source": [
    "**Typeset your solution for Problem 2F in this cell or cells.**"
   ]
  },
  {
   "cell_type": "markdown",
   "metadata": {},
   "source": [
    "**Part G (BONUS 5 Points):** Now that you have looked at the probability space of your dice bag, outline the rules you would establish for this dice rolling game to make it _actually fun_, or at least somewhat fair. For example, would you allow or disallow rerolling the same die? Would you assign more points for correctly guessing a rarer die, or keep them equal? Would you create a turn-taking system where you pass the oven mitts and Ostrich Pillow back and forth, or give the roller points based on incorrect guesses? Would you implement other ideas? There's a limitless space for invention here - simply discuss how you would add a few rules (at least 3), and how those rules are based on the findings above (or run more probability calculations or simulations below to explore the space)."
   ]
  },
  {
   "cell_type": "markdown",
   "metadata": {},
   "source": [
    "**Typeset your solution for Problem 2G in this cell or cells.**"
   ]
  },
  {
   "cell_type": "markdown",
   "metadata": {},
   "source": [
    "[Back to top](#top)\n",
    "\n",
    "<a id='p3'></a>\n",
    "\n",
    "## (40 pts) Problem 3: Simulation (Stochastic Integration)\n",
    "***\n",
    "\n",
    "One really cool application of random variables is using them to approximate integrals/areas - an extension of the estimation of $\\pi$ done in nb04.  The random method of approximating integrals is used frequently in computational science to approximate really difficult integrals that we *never* want to do by hand.  In this exercise you'll figure out how we can do this in practice and test your method on an integral that we could do by hand. "
   ]
  },
  {
   "cell_type": "markdown",
   "metadata": {
    "collapsed": true
   },
   "source": [
    "**Part A.**  Let $L$ be a random variable representing how happy your new desk plant, Fernoulli Jr., is today.  It's measured by the **Lushness Index** (LI).  Suppose the probability density function for $L$ is on a scale from zero to one, and is described by an arcsine function:\n",
    "\n",
    "$$\n",
    "f_L(a) = \\begin{cases}\n",
    "         \\left(\\frac{1}{\\frac{\\pi}{2}-1}\\right)\\sin^{-1}(a) & 0 \\leq a \\leq 1 \\\\\n",
    "         0                           & \\text{otherwise}\n",
    "         \\end{cases}\n",
    "$$\n",
    "\n",
    "A Lushness Index of 1 means Fernoulli Jr. is feeling  well-watered, content, and ready to perform binary statistical experiments.  A Lushness Index of 0 means that your plant is really in need of some more sunlight.  \n",
    "\n",
    "\n",
    "\n",
    "Compute **by hand**, the integral of $f(a)$ for $0 \\leq a \\leq 1/2$.  Write a sentence or two to interpret your result physically, in the context of this problem set-up.\n",
    "\n",
    "*Hint*: this is classically an integral that makes use of the fact that $\\frac{d}{dx} \\sin^{-1}(x)=\\frac{1}{\\sqrt{1-x^2}}$.  That sounds like *\"part\"* of the solution.  You should also probably make sure you take a look at the plot of $f$, making mental note of it's minima, maxima, etc. over that interval."
   ]
  },
  {
   "cell_type": "markdown",
   "metadata": {},
   "source": [
    "We evaluate the integral by doing integration by parts, followed by a u-substitution. \n",
    "```  \n",
    "f(a) = (1 / ((pi/2) - 1))arcsin(a)\n",
    "\n",
    "- pull out the constant and replace it at the end\n",
    "\n",
    "     compute with IBP\n",
    "        \n",
    "           integral(arcsin(a))       u = arcsin(a) du = 1/(sqrt(1-a**2)) dv = da v = a   \n",
    "     \n",
    "     - applying IBP formula we are left with \n",
    "     \n",
    "            a*arcsin(a) - integral(a / (sqrt(1-a**2)))\n",
    "            \n",
    "     - compute the remaining integral via u-substitution\n",
    "     \n",
    "            u = 1-a**2   du = -2a  dx = du / -2x \n",
    "            \n",
    "            (from here its just taking the basic integral of 1/sqrt(u))\n",
    "            \n",
    "            \n",
    "     - after computing the second integral and plugging 'u' and bringing back the constant our final integral of f(a)\n",
    "```\n",
    "\n",
    "$$\\int(f(a)) = \\frac{1}{\\frac{\\pi}{2} - 1} (a*arcin(a) + 2\\sqrt{1-a^2}) + C$$\n",
    "\n",
    "\n",
    "\n",
    "<br><br><br>\n",
    "\n",
    "The integral of f(a) from 0 to 1/2 gives us a total area of **.2239** represents the total probability of the our plant behing at least halfway happy. "
   ]
  },
  {
   "cell_type": "markdown",
   "metadata": {},
   "source": [
    "**Part B.** What is the maximum of $f_L(a)$ over the interval $[0,1]$?  For the rest of the problem, we will refer to this value by $m$."
   ]
  },
  {
   "cell_type": "markdown",
   "metadata": {},
   "source": [
    "The maximum value is **2.752**"
   ]
  },
  {
   "cell_type": "markdown",
   "metadata": {},
   "source": [
    "**Part C.** Suppose we sample a continuous uniform random variable $X\\sim U(0,1/2)$ and another  random variable $Y \\sim U(0,m)$ and think of them as $x$- and $y$-coordinates of a point in the box $[0,1/2] \\times [0,m]$, or inside the box composed of all points $\\{(x,y)\\,|\\, x \\in [0,1/2], y \\in [0,m]\\}.$  \n",
    "\n",
    "If we compute the ratio of points that fall under the curve $f(x)$ to the total points sampled, what does this value estimate? "
   ]
  },
  {
   "cell_type": "markdown",
   "metadata": {},
   "source": [
    "We know that the total area of the rectangle is 2.752\n",
    "\n",
    "The total points sampled is plotted in this sample space, the points that fall under the curve f(a) / total points sampled will give us an estimate of how many of the points that fell under the curve out of all the sample points\n",
    "\n",
    "If we multiply this ratio by the total area then we know how much of the region under the curve is taken up. "
   ]
  },
  {
   "cell_type": "markdown",
   "metadata": {},
   "source": [
    "**Part D.** How could we modify the process outlined in **Part B** so that our estimator estimates the value of the desired integral?  If you need inspiration, check out the in-class notebook on Stochastic Simulation (#4), specifically, the exercise where we estimated $\\pi$!"
   ]
  },
  {
   "cell_type": "markdown",
   "metadata": {},
   "source": [
    "Take the total number of points found under the graph divided by total sample points. Then we multiply that by m * the upper bound. This will give you the total area from 0 to the upper bound you want."
   ]
  },
  {
   "cell_type": "markdown",
   "metadata": {},
   "source": [
    "**Part E.** Complete the function `integrate` below to compute an approximation to the definition integral $\\int_0^{\\text{ub}} f(x)dx$.  Your function should take as arguments:\n",
    "1. `num_samples` -- the number of points to sample,\n",
    "2. `ub` -- a number between $0$ and $1$ that is the upper bound of the integral, and\n",
    "3. `isPlot` -- a Boolean flag for whether or not to display a plot of the results.\n",
    "\n",
    "Your function should return an approximation of the definite integral by sampling $X$ from $U(0,\\text{ub})$ and $Y$ from $U(0,m)$. For each random draw $(X,Y)$, define the random variable $Z$ that represents whether or not the sampled $Y$ value is less than $f(X)$ for the corresponding $X$ value.\n",
    "\n",
    "Your function should perform three tasks: \n",
    "\n",
    "1. return the estimate of the value of the integral,\n",
    "2. return the sample variance of the random variable $Z$ being simulated, using the np.var function, and\n",
    "3. if `isPlot` is True, plot the curve $f(x)$ as well as the location of the points $(X,Y)$, colored according to whether they fall above or below the curve. "
   ]
  },
  {
   "cell_type": "markdown",
   "metadata": {},
   "source": [
    "$$\\int_{0}^{1} \\left(\\frac{1}{\\frac{\\pi}{2}-1}\\right)\\sin^{-1}(a) $$\n"
   ]
  },
  {
   "cell_type": "code",
   "execution_count": 121,
   "metadata": {},
   "outputs": [
    {
     "data": {
      "image/png": "[encoded data removed]",
      "text/plain": [
       "<Figure size 432x288 with 1 Axes>"
      ]
     },
     "metadata": {
      "needs_background": "light"
     },
     "output_type": "display_data"
    }
   ],
   "source": [
    "import math \n",
    "def find_fx(x):\n",
    "    constant = 1 / ((math.pi / 2) - 1)\n",
    "    x = np.arcsin(x)\n",
    "    fx = x * constant\n",
    "    return fx\n",
    "\n",
    "def integrate(num_samples, ub, isPlot):\n",
    "    \n",
    "    #coordinates for plotting\n",
    "    yesX = np.array([])\n",
    "    yesY = np.array([])\n",
    "    noX = np.array([])\n",
    "    noY = np.array([])\n",
    "    \n",
    "    \n",
    "    Z = np.array([])\n",
    "    estimate = 0\n",
    "    sample_var = 0\n",
    "    const_totalArea = 2.765\n",
    "    \n",
    "    x = np.random.uniform(0,ub, num_samples)\n",
    "    y = np.random.uniform(0, 2.765, num_samples)\n",
    "    \n",
    "    for i in range(len(x)):\n",
    "        yes = False   # True if the point is under the graph\n",
    "        x0 = x[i]\n",
    "        y0 = y[i]\n",
    "        f_x = find_fx(x0)\n",
    "        if (y0 < f_x):\n",
    "            estimate = estimate + 1\n",
    "            Z = np.append(Z,y0)\n",
    "            yes = True\n",
    "        \n",
    "        if yes == True:\n",
    "            yesX = np.append(yesX, x0)\n",
    "            yesY = np.append(yesY, y0)\n",
    "        \n",
    "        if yes == False:\n",
    "            noX = np.append(noX, x0)\n",
    "            noY = np.append(noY, y0)\n",
    "\n",
    "    # plotting the points\n",
    "    if isPlot == True: \n",
    "        x.sort()\n",
    "        plt.scatter(noX,noY)  # points above the curve\n",
    "        plt.scatter(yesX,yesY, color=\"red\") # points below the curve\n",
    "        plt.plot(x,find_fx(x))\n",
    "        plt.show()\n",
    "            \n",
    "    sample_var = np.var(Z)\n",
    "    estimate = ((estimate / num_samples) * const_totalArea) * ub\n",
    "    \n",
    "    return estimate, sample_var\n",
    "\n",
    "x = integrate(100,1/2,True)"
   ]
  },
  {
   "cell_type": "markdown",
   "metadata": {},
   "source": [
    "**Part F.** Write your own small unit tests!\n",
    "\n",
    "First, what should your `integrate` function output if you plug in `ub=0`? Set that as `int_0_to_0` below.\n",
    "\n",
    "Second, what should your `integrate` function output if you plug in `ub=`1?  (Is this actually a valid pdf?) Set that as `int_0_to_1` below.\n",
    "\n",
    "Then, you can execute the cell below to run two sanity checks. Write out **in math** (like, a definite integral) what each of these two tests is checking and **why** that is a reasonable sanity check.\n",
    "\n",
    "If these two assertions run without fail, then things seem to be working okay. Note that the upper endpoint test involves randomness, so if it fails, try running it a few times. If it fails a lot, then things are probably going wrong."
   ]
  },
  {
   "cell_type": "code",
   "execution_count": 122,
   "metadata": {},
   "outputs": [],
   "source": [
    "# Part 3F Code\n",
    "int_0_to_0  = 0\n",
    "int_0_to_1 = 1\n",
    "\n",
    "\n",
    "#---------------------------------------\n",
    "# DO NOT EDIT THIS CELL BELOW HERE\n",
    "#---------------------------------------\n",
    "assert integrate(1000, 0, False)[0]==int_0_to_0, \"Error: lower endpoint test failing\"\n",
    "assert math.isclose(integrate(10000, 1, False)[0],int_0_to_1,abs_tol=0.03), \"Error: upper endpoint test failing\""
   ]
  },
  {
   "cell_type": "markdown",
   "metadata": {},
   "source": [
    "For the case int_0_to_0: \n",
    "\n",
    "This is a good sanity check because logically it makes sense that if we integrate over a region of length 0. Then our total area under the curve would be zero because f(x) * 0 = 0.\n",
    "\n",
    "\n",
    "Mathematically shown here is an example of taking the integral of a generic function from 0 to 0,"
   ]
  },
  {
   "cell_type": "markdown",
   "metadata": {},
   "source": [
    "$$\\int_{0}^{0} f(a) $$ \n",
    "\n",
    "Disregarding the constant value we will ultimately just have the equation\n",
    "\n",
    "$$(0*arcin(0) + 2\\sqrt{1-0^2}) - (0*arcin(0) + 2\\sqrt{1-0^2}) == 0$$\n"
   ]
  },
  {
   "cell_type": "markdown",
   "metadata": {},
   "source": [
    "and it makes sense that the total probability given a 0 to 0 for the lushness value is equal that the probability equals zero"
   ]
  },
  {
   "cell_type": "markdown",
   "metadata": {},
   "source": [
    "For the case int_0_to_1\n",
    "\n",
    "This is also a good sanity check because of the axiom that the sum of the area under the curve of a probability density function is equal to one. So when we check our function from 0 to 1 then we should expect it be close to one.\n",
    "\n",
    "\n",
    "Mathematically shown here"
   ]
  },
  {
   "cell_type": "markdown",
   "metadata": {},
   "source": [
    "$$\\int_{0}^{1} f(a) $$ \n",
    "\n",
    "$$(0*arcin(0) + 2\\sqrt{1-0^2}) - (1*arcin(1) + 2\\sqrt{1-1^2})$$\n",
    "\n",
    "Crunching these values out we will see that we should indeed get the value 1"
   ]
  },
  {
   "cell_type": "markdown",
   "metadata": {},
   "source": [
    "**Part G.** Run your simulation with `isPlot=True` and `ub=`$1$ for 1,000 samples so we can see your plot. Then, run your simulation (with `isPlot=False`) with at least 10,000 samples and estimate the value of the given integral. Be sure to leave your cells evaluated for the graders! Does your estimate agree with the exact value of the integral you computed in **Part A**?  As a whole, what advantage does this process offer over actually doing the integral by hand?"
   ]
  },
  {
   "cell_type": "code",
   "execution_count": 123,
   "metadata": {},
   "outputs": [
    {
     "data": {
      "image/png": "[encoded data removed]",
      "text/plain": [
       "<Figure size 432x288 with 1 Axes>"
      ]
     },
     "metadata": {
      "needs_background": "light"
     },
     "output_type": "display_data"
    },
    {
     "data": {
      "text/plain": [
       "(0.9069200000000001, 0.2814356687836108)"
      ]
     },
     "execution_count": 123,
     "metadata": {},
     "output_type": "execute_result"
    }
   ],
   "source": [
    "integrate(1000,1,True)"
   ]
  },
  {
   "cell_type": "code",
   "execution_count": 125,
   "metadata": {},
   "outputs": [
    {
     "data": {
      "image/png": "[encoded data removed]",
      "text/plain": [
       "<Figure size 432x288 with 1 Axes>"
      ]
     },
     "metadata": {
      "needs_background": "light"
     },
     "output_type": "display_data"
    },
    {
     "data": {
      "text/plain": [
       "(0.21912625000000002, 0.04695533360490515)"
      ]
     },
     "execution_count": 125,
     "metadata": {},
     "output_type": "execute_result"
    }
   ],
   "source": [
    "integrate(10000,1/2,True)"
   ]
  },
  {
   "cell_type": "markdown",
   "metadata": {},
   "source": [
    "Yes this does agree with my answer in part A. The method is an advanatage because we are able to avoid having to compute integrals by hand and also we can calculate for infinityl many inputs"
   ]
  },
  {
   "cell_type": "code",
   "execution_count": null,
   "metadata": {},
   "outputs": [],
   "source": []
  }
 ],
 "metadata": {
  "kernelspec": {
   "display_name": "Python 3",
   "language": "python",
   "name": "python3"
  },
  "language_info": {
   "codemirror_mode": {
    "name": "ipython",
    "version": 3
   },
   "file_extension": ".py",
   "mimetype": "text/x-python",
   "name": "python",
   "nbconvert_exporter": "python",
   "pygments_lexer": "ipython3",
   "version": "3.8.2"
  }
 },
 "nbformat": 4,
 "nbformat_minor": 2
}
